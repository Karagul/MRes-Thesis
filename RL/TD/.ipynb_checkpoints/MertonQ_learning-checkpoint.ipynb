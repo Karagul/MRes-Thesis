{
 "cells": [
  {
   "cell_type": "code",
   "execution_count": null,
   "metadata": {
    "collapsed": true
   },
   "outputs": [],
   "source": [
    "import math\n",
    "import numpy\n",
    "import numpy as np\n",
    "import random\n",
    "import decimal\n",
    "import scipy.linalg\n",
    "import numpy.random as nrand\n",
    "import matplotlib.pyplot as plt\n",
    "import torch\n",
    "import seaborn as sns\n",
    "\n",
    "#Now to implement q learning and variants on the above market environment\n",
    "import sys\n",
    "if \"../\" not in sys.path:\n",
    "  sys.path.append(\"../\") \n",
    "\n",
    "#from lib.utes import run_experiment, plot_values, plot_greedy_policy, \\\n",
    "#                        plot_action_values, random_policy, plot_state_value\n",
    "\n",
    "#from lib.envs.grid import Grid, FeatureGrid, AltGrid\n",
    "from TD import RandomTD, GeneralQ, ExperienceQ, DynaQ, FeatureExperienceQ, FeatureDynaQ\n",
    "from FA.model import TabularModel, LinearModel\n",
    "from Tabular import ExpTabAgent\n",
    "\n",
    "%matplotlib inline"
   ]
  },
  {
   "cell_type": "code",
   "execution_count": null,
   "metadata": {
    "collapsed": true
   },
   "outputs": [],
   "source": [
    "#Do the simulations first...wrote my own for GBM but found this which could speed me up\n",
    "#for OU, Jump diffusion etc"
   ]
  },
  {
   "cell_type": "code",
   "execution_count": null,
   "metadata": {
    "collapsed": true
   },
   "outputs": [],
   "source": [
    "class ModelParameters:\n",
    "    \"\"\"\n",
    "    Encapsulates model parameters\n",
    "    \"\"\"\n",
    "\n",
    "    def __init__(self,\n",
    "                 all_s0, all_time, all_delta, all_sigma, gbm_mu,\n",
    "                 jumps_lamda=0.0, jumps_sigma=0.0, jumps_mu=0.0,\n",
    "                 cir_a=0.0, cir_mu=0.0, all_r0=0.0, cir_rho=0.0,\n",
    "                 ou_a=0.0, ou_mu=0.0,\n",
    "                 heston_a=0.0, heston_mu=0.0, heston_vol0=0.0):\n",
    "        # This is the starting asset value\n",
    "        self.all_s0 = all_s0\n",
    "        # This is the amount of time to simulate for\n",
    "        self.all_time = all_time\n",
    "        # This is the delta, the rate of time e.g. 1/252 = daily, 1/12 = monthly\n",
    "        self.all_delta = all_delta\n",
    "        # This is the volatility of the stochastic processes\n",
    "        self.all_sigma = all_sigma\n",
    "        # This is the annual drift factor for geometric brownian motion\n",
    "        self.gbm_mu = gbm_mu\n",
    "        # This is the probability of a jump happening at each point in time\n",
    "        self.lamda = jumps_lamda\n",
    "        # This is the volatility of the jump size\n",
    "        self.jumps_sigma = jumps_sigma\n",
    "        # This is the average jump size\n",
    "        self.jumps_mu = jumps_mu\n",
    "        # This is the rate of mean reversion for Cox Ingersoll Ross\n",
    "        self.cir_a = cir_a\n",
    "        # This is the long run average interest rate for Cox Ingersoll Ross\n",
    "        self.cir_mu = cir_mu\n",
    "        # This is the starting interest rate value\n",
    "        self.all_r0 = all_r0\n",
    "        # This is the correlation between the wiener processes of the Heston model\n",
    "        self.cir_rho = cir_rho\n",
    "        # This is the rate of mean reversion for Ornstein Uhlenbeck\n",
    "        self.ou_a = ou_a\n",
    "        # This is the long run average interest rate for Ornstein Uhlenbeck\n",
    "        self.ou_mu = ou_mu\n",
    "        # This is the rate of mean reversion for volatility in the Heston model\n",
    "        self.heston_a = heston_a\n",
    "        # This is the long run average volatility for the Heston model\n",
    "        self.heston_mu = heston_mu\n",
    "        # This is the starting volatility value for the Heston model\n",
    "        self.heston_vol0 = heston_vol0"
   ]
  },
  {
   "cell_type": "code",
   "execution_count": null,
   "metadata": {
    "collapsed": true
   },
   "outputs": [],
   "source": [
    "mp = ModelParameters(all_s0=1000,\n",
    "                     all_r0=0.5,\n",
    "                     all_time=800,\n",
    "                     all_delta=0.00396825396,\n",
    "                     all_sigma=0.15,\n",
    "                     gbm_mu=0.07,\n",
    "                     jumps_lamda=0.00125,\n",
    "                     jumps_sigma=0.001,\n",
    "                     jumps_mu=-0.2,\n",
    "                     cir_a=3.0,\n",
    "                     cir_mu=0.5,\n",
    "                     cir_rho=0.5,\n",
    "                     ou_a=3.0,\n",
    "                     ou_mu=0.5,\n",
    "                     heston_a=0.25,\n",
    "                     heston_mu=0.35,\n",
    "                     heston_vol0=0.06125)\n",
    "\n",
    "paths = 15"
   ]
  },
  {
   "cell_type": "code",
   "execution_count": null,
   "metadata": {
    "collapsed": true
   },
   "outputs": [],
   "source": [
    "def plot_stochastic_processes(processes, title):\n",
    "    \"\"\"\n",
    "    This method plots a list of stochastic processes with a specified title\n",
    "    :return: plots the graph of the two\n",
    "    \"\"\"\n",
    "    plt.style.use(['bmh'])\n",
    "    fig, ax = plt.subplots(1)\n",
    "    fig.suptitle(title, fontsize=16)\n",
    "    ax.set_xlabel('Time, t')\n",
    "    ax.set_ylabel('Simulated Asset Price')\n",
    "    x_axis = numpy.arange(0, len(processes[0]), 1)\n",
    "    for i in range(len(processes)):\n",
    "        plt.plot(x_axis, processes[i])\n",
    "    plt.show()"
   ]
  },
  {
   "cell_type": "code",
   "execution_count": null,
   "metadata": {
    "collapsed": true
   },
   "outputs": [],
   "source": [
    "def convert_to_returns(log_returns):\n",
    "    \"\"\"\n",
    "    This method exponentiates a sequence of log returns to get daily returns.\n",
    "    :param log_returns: the log returns to exponentiated\n",
    "    :return: the exponentiated returns\n",
    "    \"\"\"\n",
    "    return numpy.exp(log_returns)\n",
    "\n",
    "\n",
    "def convert_to_prices(param, log_returns):\n",
    "    \"\"\"\n",
    "    This method converts a sequence of log returns into normal returns (exponentiation) and then computes a price\n",
    "    sequence given a starting price, param.all_s0.\n",
    "    :param param: the model parameters object\n",
    "    :param log_returns: the log returns to exponentiated\n",
    "    :return:\n",
    "    \"\"\"\n",
    "    returns = convert_to_returns(log_returns)\n",
    "    # A sequence of prices starting with param.all_s0\n",
    "    price_sequence = [param.all_s0]\n",
    "    for i in range(1, len(returns)):\n",
    "        # Add the price at t-1 * return at t\n",
    "        price_sequence.append(price_sequence[i - 1] * returns[i - 1])\n",
    "    return numpy.array(price_sequence)\n"
   ]
  },
  {
   "cell_type": "code",
   "execution_count": null,
   "metadata": {
    "collapsed": true
   },
   "outputs": [],
   "source": [
    "def brownian_motion_log_returns(param):\n",
    "    \"\"\"\n",
    "    This method returns a Wiener process. The Wiener process is also called Brownian motion. For more information\n",
    "    about the Wiener process check out the Wikipedia page: http://en.wikipedia.org/wiki/Wiener_process\n",
    "    :param param: the model parameters object\n",
    "    :return: brownian motion log returns\n",
    "    \"\"\"\n",
    "    sqrt_delta_sigma = math.sqrt(param.all_delta) * param.all_sigma\n",
    "    return nrand.normal(loc=0, scale=sqrt_delta_sigma, size=param.all_time)\n",
    "\n",
    "def brownian_motion_levels(param):\n",
    "    \"\"\"\n",
    "    Returns a price sequence whose returns evolve according to a brownian motion\n",
    "    :param param: model parameters object\n",
    "    :return: returns a price sequence which follows a brownian motion\n",
    "    \"\"\"\n",
    "    return convert_to_prices(param, brownian_motion_log_returns(param))\n"
   ]
  },
  {
   "cell_type": "code",
   "execution_count": null,
   "metadata": {
    "collapsed": true
   },
   "outputs": [],
   "source": [
    "def geometric_brownian_motion_log_returns(param):\n",
    "    \"\"\"\n",
    "    This method constructs a sequence of log returns which, when exponentiated, produce a random Geometric Brownian\n",
    "    Motion (GBM). GBM is the stochastic process underlying the Black Scholes options pricing formula.\n",
    "    :param param: model parameters object\n",
    "    :return: returns the log returns of a geometric brownian motion process\n",
    "    \"\"\"\n",
    "    assert isinstance(param, ModelParameters)\n",
    "    wiener_process = numpy.array(brownian_motion_log_returns(param))\n",
    "    sigma_pow_mu_delta = (param.gbm_mu - 0.5 * math.pow(param.all_sigma, 2.0)) * param.all_delta\n",
    "    return wiener_process + sigma_pow_mu_delta\n",
    "\n",
    "def geometric_brownian_motion_levels(param):\n",
    "    \"\"\"\n",
    "    Returns a sequence of price levels for an asset which evolves according to a geometric brownian motion\n",
    "    :param param: model parameters object\n",
    "    :return: the price levels for the asset\n",
    "    \"\"\"\n",
    "    return convert_to_prices(param, geometric_brownian_motion_log_returns(param))"
   ]
  },
  {
   "cell_type": "code",
   "execution_count": null,
   "metadata": {},
   "outputs": [],
   "source": [
    "geometric_brownian_motion_examples = []\n",
    "for i in range(paths):\n",
    "    geometric_brownian_motion_examples.append(geometric_brownian_motion_levels(mp))\n",
    "plot_stochastic_processes(geometric_brownian_motion_examples, \"Geometric Brownian Motion Paths\")\n"
   ]
  },
  {
   "cell_type": "code",
   "execution_count": null,
   "metadata": {
    "collapsed": true
   },
   "outputs": [],
   "source": [
    "def jump_diffusion_process(param):\n",
    "    \"\"\"\n",
    "    This method produces a sequence of Jump Sizes which represent a jump diffusion process. These jumps are combined\n",
    "    with a geometric brownian motion (log returns) to produce the Merton model.\n",
    "    :param param: the model parameters object\n",
    "    :return: jump sizes for each point in time (mostly zeroes if jumps are infrequent)\n",
    "    \"\"\"\n",
    "    assert isinstance(param, ModelParameters)\n",
    "    s_n = time = 0\n",
    "    small_lamda = -(1.0 / param.lamda)\n",
    "    jump_sizes = []\n",
    "    for k in range(0, param.all_time):\n",
    "        jump_sizes.append(0.0)\n",
    "    while s_n < param.all_time:\n",
    "        s_n += small_lamda * math.log(random.uniform(0, 1))\n",
    "        for j in range(0, param.all_time):\n",
    "            if time * param.all_delta <= s_n * param.all_delta <= (j + 1) * param.all_delta:\n",
    "                # print(\"was true\")\n",
    "                jump_sizes[j] += random.normalvariate(param.jumps_mu, param.jumps_sigma)\n",
    "                break\n",
    "        time += 1\n",
    "    return jump_sizes\n",
    "\n",
    "def geometric_brownian_motion_jump_diffusion_log_returns(param):\n",
    "    \"\"\"\n",
    "    This method constructs combines a geometric brownian motion process (log returns) with a jump diffusion process\n",
    "    (log returns) to produce a sequence of gbm jump returns.\n",
    "    :param param: model parameters object\n",
    "    :return: returns a GBM process with jumps in it\n",
    "    \"\"\"\n",
    "    assert isinstance(param, ModelParameters)\n",
    "    jump_diffusion = jump_diffusion_process(param)\n",
    "    geometric_brownian_motion = geometric_brownian_motion_log_returns(param)\n",
    "    return numpy.add(jump_diffusion, geometric_brownian_motion)\n",
    "\n",
    "\n",
    "def geometric_brownian_motion_jump_diffusion_levels(param):\n",
    "    \"\"\"\n",
    "    This method converts a sequence of gbm jmp returns into a price sequence which evolves according to a geometric\n",
    "    brownian motion but can contain jumps at any point in time.\n",
    "    :param param: model parameters object\n",
    "    :return: the price levels\n",
    "    \"\"\"\n",
    "    return convert_to_prices(param, geometric_brownian_motion_jump_diffusion_log_returns(param))"
   ]
  },
  {
   "cell_type": "code",
   "execution_count": null,
   "metadata": {},
   "outputs": [],
   "source": [
    "jump_diffusion_examples = []\n",
    "for i in range(paths):\n",
    "    jump_diffusion_examples.append(geometric_brownian_motion_jump_diffusion_levels(mp))\n",
    "plot_stochastic_processes(jump_diffusion_examples, \"Jump Diffusion Geometric Brownian Motion (Merton)\")"
   ]
  },
  {
   "cell_type": "code",
   "execution_count": 12,
   "metadata": {
    "collapsed": true
   },
   "outputs": [],
   "source": [
    "def ornstein_uhlenbeck_levels(param):\n",
    "    \"\"\"\n",
    "    This method returns the rate levels of a mean-reverting ornstein uhlenbeck process.\n",
    "    :param param: the model parameters object\n",
    "    :return: the interest rate levels for the Ornstein Uhlenbeck process\n",
    "    \"\"\"\n",
    "    ou_levels = [param.all_r0]\n",
    "    brownian_motion_returns = brownian_motion_log_returns(param)\n",
    "    for i in range(1, param.all_time):\n",
    "        drift = param.ou_a * (param.ou_mu - ou_levels[i-1]) * param.all_delta\n",
    "        randomness = brownian_motion_returns[i - 1]\n",
    "        ou_levels.append(ou_levels[i - 1] + drift + randomness)\n",
    "    return ou_levels"
   ]
  },
  {
   "cell_type": "code",
   "execution_count": 13,
   "metadata": {},
   "outputs": [
    {
     "data": {
      "image/png": "[encoded data removed]",
      "text/plain": [
       "<matplotlib.figure.Figure at 0x1a162b3470>"
      ]
     },
     "metadata": {},
     "output_type": "display_data"
    }
   ],
   "source": [
    "ou_examples = []\n",
    "for i in range(paths):\n",
    "    ou_examples.append(ornstein_uhlenbeck_levels(mp))\n",
    "plot_stochastic_processes(ou_examples, \"Ornstein Uhlenbeck\")"
   ]
  },
  {
   "cell_type": "code",
   "execution_count": 14,
   "metadata": {
    "collapsed": true
   },
   "outputs": [],
   "source": [
    "#################################################\n",
    "# Stage 1 of my stuff is simply get a merton ration and sample paths \n",
    "# the maths (using stochastic optimal control will be described in the thesis)\n",
    "\n",
    "#the above stuff could be used to maybe extent to different processes - jump diffusion for example\n",
    "\n",
    "S0 = 1 #starting level stock\n",
    "B0 = 1 #starting level bond\n",
    "T = 1.0 #time period which will be chopped up (merton would be continuous)\n",
    "#mu =0.06\n",
    "#r = 0.04\n",
    "#sigma = 0.22\n",
    "\n",
    "mu =0.11 #drift of GBM - RL won't know this\n",
    "rf = 0.10 #drift of risk free\n",
    "sigma = 0.028 #volatility of GBM again RL won't know this\n",
    "M = 20 #number of time period each episode\n",
    "dt = T/M\n",
    "I = 300000 #number of simulations"
   ]
  },
  {
   "cell_type": "code",
   "execution_count": 15,
   "metadata": {},
   "outputs": [
    {
     "data": {
      "text/plain": [
       "12.755102040816318"
      ]
     },
     "execution_count": 15,
     "metadata": {},
     "output_type": "execute_result"
    }
   ],
   "source": [
    "#The merton ratio leads to a constant ratio for GBM log utility\n",
    "#note this is a very high leverage because of the low vol\n",
    "#I did this due to difficulties getting RL to learn anything \n",
    "#and we can play around with how to solve this\n",
    "\n",
    "u_star = (mu-rf)/sigma**2\n",
    "u_star #the ratio to invest"
   ]
  },
  {
   "cell_type": "code",
   "execution_count": 16,
   "metadata": {},
   "outputs": [
    {
     "data": {
      "text/plain": [
       "4.7051741059880916"
      ]
     },
     "execution_count": 16,
     "metadata": {},
     "output_type": "execute_result"
    }
   ],
   "source": [
    "X0 = 100\n",
    "Ute_star = np.log(X0) + (rf + ((mu-rf)/2*sigma**2))\n",
    "Ute_star #the optimal utility analytically"
   ]
  },
  {
   "cell_type": "code",
   "execution_count": 17,
   "metadata": {
    "collapsed": true
   },
   "outputs": [],
   "source": [
    "#Will do a lot of runs and discretise\n",
    "S = np.zeros((M+1,I))\n",
    "X = np.zeros((M+1,I))\n",
    "NB = np.zeros((M+1,I))\n",
    "NS = np.zeros((M+1,I))\n",
    "dS = np.zeros((M,I))\n",
    "dB = np.zeros((M,I))\n",
    "dX = np.zeros((M,I))\n",
    "\n",
    "B = np.zeros(M+1)\n",
    "\n",
    "X[0] = X0\n",
    "B[0] = B0"
   ]
  },
  {
   "cell_type": "code",
   "execution_count": 18,
   "metadata": {},
   "outputs": [
    {
     "data": {
      "text/plain": [
       "array([-10. ,  -7.5,  -5. ,  -2.5,   0. ,   2.5,   5. ,   7.5,  10. ,\n",
       "        12.5,  15. ,  17.5,  20. ,  22.5,  25. ])"
      ]
     },
     "execution_count": 18,
     "metadata": {},
     "output_type": "execute_result"
    }
   ],
   "source": [
    "#I am going to examine 15 different options and try to replicate...at the end the RL will have a choice\n",
    "#of each but first will discretise and then run to the end to look at the utilities\n",
    "utes = 15\n",
    "utility = np.zeros(utes)\n",
    "\n",
    "means = np.zeros(utes)\n",
    "variances = np.zeros(utes)\n",
    "\n",
    "u_star = np.linspace(-10,25, utes)\n",
    "u_star"
   ]
  },
  {
   "cell_type": "code",
   "execution_count": 19,
   "metadata": {},
   "outputs": [],
   "source": [
    "#Simulating lots of paths to the end\n",
    "np.random.seed(0)\n",
    "\n",
    "S[0] = S0\n",
    "for t in range(1, M+1):\n",
    "    z = np.random.standard_normal(I)\n",
    "    S[t] = S[t-1]*np.exp((mu-0.5*sigma**2)*dt + sigma*math.sqrt(dt)*z)\n",
    "    B[t] = B[t-1]*np.exp(rf*dt)\n",
    "\n",
    "for t in range(1,M):\n",
    "    dS[t] = S[t+1] - S[t]\n",
    "    dB[t] = B[t+1] - B[t]\n",
    "\n",
    "for i in range(utes):\n",
    "    for t in range(0, M):\n",
    "        NB[t] = (1-u_star[i])*X[t]/B[t]\n",
    "        NS[t] = u_star[i]*X[t]/S[t]\n",
    "        dX[t] = NB[t]*dB[t] +NS[t]*dS[t]\n",
    "        X[t+1] = X[t]+ dX[t]\n",
    "        \n",
    "\n",
    "    utility[i] = np.mean(np.log(X[-1,:]))\n",
    "    means[i] = np.mean(X[-1,:])\n",
    "    variances[i] = np.var(X[-1,:])\n"
   ]
  },
  {
   "cell_type": "code",
   "execution_count": 20,
   "metadata": {},
   "outputs": [
    {
     "data": {
      "text/plain": [
       "<matplotlib.text.Text at 0x1a1629d470>"
      ]
     },
     "execution_count": 20,
     "metadata": {},
     "output_type": "execute_result"
    },
    {
     "data": {
      "image/png": "[encoded data removed]",
      "text/plain": [
       "<matplotlib.figure.Figure at 0x1a162a92e8>"
      ]
     },
     "metadata": {},
     "output_type": "display_data"
    }
   ],
   "source": [
    "plt.plot(S[:,0:10])\n",
    "plt.title('Sample GBM paths mu 0.12, sigma 0.028')\n",
    "plt.xlabel('Reblance period - time')\n",
    "plt.ylabel('Price level')"
   ]
  },
  {
   "cell_type": "code",
   "execution_count": 21,
   "metadata": {},
   "outputs": [
    {
     "data": {
      "text/plain": [
       "<matplotlib.text.Text at 0x1a15cd80b8>"
      ]
     },
     "execution_count": 21,
     "metadata": {},
     "output_type": "execute_result"
    },
    {
     "data": {
      "image/png": "[encoded data removed]",
      "text/plain": [
       "<matplotlib.figure.Figure at 0x1a16291be0>"
      ]
     },
     "metadata": {},
     "output_type": "display_data"
    }
   ],
   "source": [
    "plt.plot(u_star, utility)\n",
    "plt.title(\"Simulated Discretised Log Utility- constant investment\")\n",
    "plt.xlabel(\"Investment Ratio > 1 borrows at risk free\")\n",
    "plt.ylabel(\"Log Utility\")"
   ]
  },
  {
   "cell_type": "code",
   "execution_count": 22,
   "metadata": {},
   "outputs": [
    {
     "data": {
      "text/plain": [
       "12.5"
      ]
     },
     "execution_count": 22,
     "metadata": {},
     "output_type": "execute_result"
    }
   ],
   "source": [
    "#if we know the answer is log utility and \n",
    "#we know that we have gbm then we can simulate to\n",
    "#see if our best action is close to the optimal ratio\n",
    "#according to merton's formula\n",
    "best_action = np.argmax(utility)\n",
    "utility[best_action]\n",
    "u_star[best_action] #12.5 is the closest we have to merton which is 12.7"
   ]
  },
  {
   "cell_type": "code",
   "execution_count": 23,
   "metadata": {
    "collapsed": true
   },
   "outputs": [],
   "source": [
    "#Ritters paper looks at mean variance equivalence distributions\n",
    "#he can thus convert with a parameter kappa the above utility to \n",
    "#a mean variance trade off...this is possible for all mean variance equiv distn\n",
    "#and upward sloping utility function (of which log is)\n",
    "\n",
    "def mv_equiv(kappa, mean, variance):\n",
    "    return mean - (kappa/2)*variance\n",
    "\n",
    "kappa = 0.007\n",
    "\n",
    "vals = mv_equiv(kappa, means, variances)"
   ]
  },
  {
   "cell_type": "code",
   "execution_count": 24,
   "metadata": {},
   "outputs": [
    {
     "data": {
      "text/plain": [
       "9"
      ]
     },
     "execution_count": 24,
     "metadata": {},
     "output_type": "execute_result"
    },
    {
     "data": {
      "image/png": "[encoded data removed]",
      "text/plain": [
       "<matplotlib.figure.Figure at 0x1a16211d68>"
      ]
     },
     "metadata": {},
     "output_type": "display_data"
    }
   ],
   "source": [
    "plt.plot(u_star, vals)\n",
    "plt.title(\"Mean Variance equivalent form - using kappa\")\n",
    "plt.xlabel(\"Investment Ratio > 1 borrows at risk free\")\n",
    "plt.ylabel(\"Mean-kappa/2*variance\")\n",
    "np.argmax(vals) #we see can can find the max"
   ]
  },
  {
   "cell_type": "code",
   "execution_count": 25,
   "metadata": {
    "collapsed": true
   },
   "outputs": [],
   "source": [
    "#From the ritter paper he then instead of calculating the mean variance equivalent\n",
    "#form at the end, turned this into an incremental reward. He did this for trading an OU\n",
    "#process showing q learning could find an arbitrage - the step by step is dx - kappa*(dx**2)\n",
    "\n",
    "#Using the same set up I hoped to be able to approach mertons problem with RL\n",
    "#the agent won't know the price process, it will have 15 different investment possibilities\n",
    "#at each time, it will know its wealth level, and have an action of how much to invest.\n",
    "#each step this order will be executed by the market agent and it will receive a reward. \n",
    "\n",
    "#Difficulty one - the agent has no control of much of the next state...it is effectively choosing\n",
    "#between different probability distributions over wealth, the price process is noisy and independent of\n",
    "#it, thus the action doesn't control much of the next environment.\n",
    "\n",
    "#Difficulty two - even a low vol levels, the rewards are noisy and can be misleading. The agent\n",
    "#does not know that 'the answer' is a constant investment ratio, it must explore.\n",
    "\n"
   ]
  },
  {
   "cell_type": "code",
   "execution_count": 26,
   "metadata": {
    "collapsed": true
   },
   "outputs": [],
   "source": [
    "np.random.seed(0)\n",
    "class Market(object):\n",
    "  def __init__(self, episodes, time_periods, mu, r, sigma):\n",
    "\n",
    "    self.episodes = episodes\n",
    "    self.time_periods = time_periods\n",
    "    self.epi = 0\n",
    "    self.t = 0\n",
    "    \n",
    "    \n",
    "    self.mu = mu\n",
    "    self.r = r\n",
    "    self.sigma = sigma\n",
    "    \n",
    "    self.S, self.B, self.dS, self.dB = self.generate_price_series()\n",
    "    self._number_of_states = int(np.max(self.S)*100)+1\n",
    "    \n",
    "    self._start_state = self.S[self.t,self.epi]\n",
    "    self._state = self._start_state\n",
    "\n",
    "  @property\n",
    "  def number_of_states(self):\n",
    "      return self._number_of_states\n",
    "\n",
    "  def get_obs(self):\n",
    "    s = self._state\n",
    "    return int(100*s)\n",
    "\n",
    "  def step(self, action):\n",
    "    #an action is an order to the environment\n",
    "    #to buy a certain proportion\n",
    "    #the wealth is also provided\n",
    "    prop, wealth = action\n",
    "    \n",
    "    discount = 0.99\n",
    "    kappa = 0.008 # 0.009 #check if this makes a difference\n",
    "        \n",
    "    if self.t < self.time_periods:\n",
    "        NB = (1-prop)*wealth/self.B[self.t]\n",
    "        NS = prop*wealth/self.S[self.t, self.epi]\n",
    "        \n",
    "        dX = NB*self.dB[self.t] +NS*self.dS[self.t,self.epi]\n",
    "        \n",
    "        reward = dX - (kappa/2)*(dX**2)\n",
    "        done = False\n",
    "        #print(self.t,self.epi,self.S[self.t,self.epi],action, dX, reward)\n",
    "        \n",
    "        self.t += 1\n",
    "        new_state = self.S[self.t, self.epi]\n",
    "        self._state = new_state \n",
    "    else:\n",
    "        #reached the end of episode...needs tidying\n",
    "        self.t = 0\n",
    "        self.epi +=1\n",
    "        new_state = self.S[self.t, self.epi]\n",
    "        self._state = new_state\n",
    "        reward = 0.0   \n",
    "        dX = 0.0\n",
    "        done = True\n",
    "        \n",
    "    return reward, discount, self.get_obs(), dX, done\n",
    "\n",
    "  def generate_price_series(self):\n",
    "    I = self.episodes\n",
    "    M = self.time_periods\n",
    "    \n",
    "    S0 = 1\n",
    "    B0 = 1\n",
    "    T = 1.0\n",
    "    dt = T/M\n",
    "    \n",
    "    mu = self.mu\n",
    "    r = self.r\n",
    "    sigma = self.sigma\n",
    "    \n",
    "    S = np.zeros((M+1,I))\n",
    "    dS = np.zeros((M,I))\n",
    "    dB = np.zeros(M)\n",
    "\n",
    "    B = np.zeros(M+1)\n",
    "    B[0] = B0\n",
    "    S[0] = S0\n",
    "    \n",
    "    for t in range(1, M+1):\n",
    "        z = np.random.standard_normal(I)\n",
    "        S[t] = S[t-1]*np.exp((mu-0.5*sigma**2)*dt + sigma*math.sqrt(dt)*z)\n",
    "        B[t] = B[t-1]*np.exp(r*dt)\n",
    "\n",
    "    for t in range(1,M):\n",
    "        dS[t] = S[t+1] - S[t]\n",
    "        dB[t] = B[t+1] - B[t]\n",
    "\n",
    "    #utility[i] = np.mean(np.log(X[-1,:]))\n",
    "    #means[i] = np.mean(X[-1,:])\n",
    "    #variances[i] = np.var(X[-1,:])\n",
    "    return S, B, dS, dB"
   ]
  },
  {
   "cell_type": "code",
   "execution_count": 27,
   "metadata": {},
   "outputs": [
    {
     "name": "stdout",
     "output_type": "stream",
     "text": [
      "Inv ratio:  -10.0 Mean log utility:  4.56660300193\n",
      "Inv ratio:  -10.0 Mean Reward:  -3.17908144721\n",
      "Min wealth:  24.591110724 Max Wealth:  343.923612947\n",
      "Inv ratio:  -7.5 Mean log utility:  4.60759805293\n",
      "Inv ratio:  -7.5 Mean Reward:  0.634025008143\n",
      "Min wealth:  24.591110724 Max Wealth:  343.923612947\n",
      "Inv ratio:  -5.0 Mean log utility:  4.64321951035\n",
      "Inv ratio:  -5.0 Mean Reward:  4.0557174694\n",
      "Min wealth:  24.591110724 Max Wealth:  343.923612947\n",
      "Inv ratio:  -2.5 Mean log utility:  4.67400366143\n",
      "Inv ratio:  -2.5 Mean Reward:  7.16373109702\n",
      "Min wealth:  24.591110724 Max Wealth:  343.923612947\n",
      "Inv ratio:  0.0 Mean log utility:  4.70017018599\n",
      "Inv ratio:  0.0 Mean Reward:  9.94496059644\n",
      "Min wealth:  24.591110724 Max Wealth:  343.923612947\n",
      "Inv ratio:  2.5 Mean log utility:  4.72128979525\n",
      "Inv ratio:  2.5 Mean Reward:  12.3291480326\n",
      "Min wealth:  24.591110724 Max Wealth:  343.923612947\n",
      "Inv ratio:  5.0 Mean log utility:  4.73834794316\n",
      "Inv ratio:  5.0 Mean Reward:  14.3938159185\n",
      "Min wealth:  24.591110724 Max Wealth:  343.923612947\n",
      "Inv ratio:  7.5 Mean log utility:  4.74994671286\n",
      "Inv ratio:  7.5 Mean Reward:  15.8961893513\n",
      "Min wealth:  24.591110724 Max Wealth:  343.923612947\n",
      "Inv ratio:  10.0 Mean log utility:  4.75849094525\n",
      "Inv ratio:  10.0 Mean Reward:  17.0934554108\n",
      "Min wealth:  24.591110724 Max Wealth:  390.402376312\n",
      "Inv ratio:  12.5 Mean log utility:  4.75995159832\n",
      "Inv ratio:  12.5 Mean Reward:  17.4369380403\n",
      "Min wealth:  24.591110724 Max Wealth:  566.198467186\n",
      "Inv ratio:  15.0 Mean log utility:  4.75810100298\n",
      "Inv ratio:  15.0 Mean Reward:  17.17821329\n",
      "Min wealth:  16.8029635923 Max Wealth:  813.303117372\n",
      "Inv ratio:  17.5 Mean log utility:  4.75120904397\n",
      "Inv ratio:  17.5 Mean Reward:  16.0335181782\n",
      "Min wealth:  11.5461054372 Max Wealth:  867.98043804\n",
      "Inv ratio:  20.0 Mean log utility:  4.73890284806\n",
      "Inv ratio:  20.0 Mean Reward:  13.9411763633\n",
      "Min wealth:  7.271359357 Max Wealth:  962.459087001\n",
      "Inv ratio:  22.5 Mean log utility:  4.72251370004\n",
      "Inv ratio:  22.5 Mean Reward:  10.4342690035\n",
      "Min wealth:  3.98319048072 Max Wealth:  1644.65397461\n",
      "Inv ratio:  25.0 Mean log utility:  4.70066151397\n",
      "Inv ratio:  25.0 Mean Reward:  5.35694549863\n",
      "Min wealth:  3.88742597858 Max Wealth:  1776.84842765\n"
     ]
    }
   ],
   "source": [
    "#We have now moved from utilities known at the end of an episode,\n",
    "#to mean variance equivalent form - known at the end of the episode\n",
    "#to a market environment where the agent receives incremental rewards at each step\n",
    "\n",
    "#In order to test if this environment gives a good approximation to the original problem\n",
    "#I will set constant wealth levels and may the utilities - so this is not an agent\n",
    "#hopefully maximising the  step by step rewards should give a similar picture to the utilities above\n",
    "\n",
    "#The min and max wealth levels above are helpful to know our range of wealth levels for our future states \n",
    "#for our RL agent\n",
    "\n",
    "mean_utes = []\n",
    "mean_rewards = []\n",
    "all_wealth = []\n",
    "for prop in u_star:\n",
    "    wealth = 100.0\n",
    "\n",
    "    episodes = 200000\n",
    "    time_periods = M\n",
    "   \n",
    "    utilities = []\n",
    "    rewards = []\n",
    "    rsum = 0\n",
    "    Mark = Market(episodes, time_periods, mu, rf, sigma)\n",
    "\n",
    "    for i in range((episodes-1)*(time_periods-1)):\n",
    "        #r, d, s, dx, done = M.step((action, wealth))\n",
    "        r, d, s, dx, done = Mark.step((prop, wealth))\n",
    "        \n",
    "        if not done:\n",
    "            rsum += r\n",
    "            wealth += dx\n",
    "        else:\n",
    "            #print(wealth)\n",
    "            utilities.append(np.log(wealth))\n",
    "            rewards.append(rsum)\n",
    "            \n",
    "            rsum = 0\n",
    "            all_wealth.append(wealth)\n",
    "            wealth = 100.0\n",
    "\n",
    "    print(\"Inv ratio: \", prop, \"Mean log utility: \",np.mean(utilities))\n",
    "    print(\"Inv ratio: \", prop, \"Mean Reward: \", np.mean(rewards))\n",
    "    print(\"Min wealth: \",np.min(all_wealth), \"Max Wealth: \",np.max(all_wealth))\n",
    "    \n",
    "    mean_rewards.append(np.mean(rewards))\n",
    "    mean_utes.append(np.mean(utilities))"
   ]
  },
  {
   "cell_type": "code",
   "execution_count": 28,
   "metadata": {},
   "outputs": [
    {
     "data": {
      "text/plain": [
       "<matplotlib.text.Text at 0x1a16200a90>"
      ]
     },
     "execution_count": 28,
     "metadata": {},
     "output_type": "execute_result"
    },
    {
     "data": {
      "image/png": "[encoded data removed]",
      "text/plain": [
       "<matplotlib.figure.Figure at 0x1a2b7e64e0>"
      ]
     },
     "metadata": {},
     "output_type": "display_data"
    }
   ],
   "source": [
    "plt.plot(u_star,mean_rewards)\n",
    "plt.title(\"Constant investment strategy - step by step rewards\")\n",
    "plt.xlabel(\"Investment Ratio\")\n",
    "plt.ylabel(\"Mean Reward\")"
   ]
  },
  {
   "cell_type": "code",
   "execution_count": 42,
   "metadata": {
    "collapsed": true
   },
   "outputs": [],
   "source": [
    "def train_agent(model, episodes, exprep=0):\n",
    "    #main function to train the currently q learning tabular agents\n",
    "    \n",
    "    wealth = 100.0\n",
    "    time_periods = M #from earlier on in the code\n",
    "\n",
    "    utilities_mod = []\n",
    "    rewards_mod = []\n",
    "    wealth_episodes = []\n",
    "    rsum = 0\n",
    "\n",
    "    number_of_actions = utes #again from earlier in the code  \n",
    "    number_of_states = 100\n",
    "\n",
    "    start_state = int(wealth/10) #this is tied to wealth/ 10\n",
    "    state =start_state #try int wealth for states\n",
    "\n",
    "    gamma = 0.95\n",
    "    learning_rate = 0.10\n",
    "    egreedy = 0.1\n",
    "    \n",
    "    episodes = episodes #500k worked well? as did 1m\n",
    "    Mark = Market(episodes, time_periods, mu, rf, sigma) #parameters from earlier\n",
    "    \n",
    "    if model==1:\n",
    "        #Q learning no tabular model\n",
    "        SARSA = False\n",
    "        double = False\n",
    "        \n",
    "        agent = GeneralQ(number_of_states, number_of_actions, state, SARSA, \n",
    "                     double, step_size=learning_rate) #here eps set to 0.1 anyway\n",
    "        action = agent.behaviour_policy(agent._q[state])\n",
    "        \n",
    "    elif model==2:\n",
    "        #Double Q learning no tabular model\n",
    "        SARSA = False\n",
    "        double = True\n",
    "        \n",
    "        agent = GeneralQ(number_of_states, number_of_actions, state, SARSA, \n",
    "                     double, step_size=learning_rate) #here eps set to 0.1 anyway\n",
    "        action = agent.behaviour_policy(agent._q[state])\n",
    "        \n",
    "    elif model==3:\n",
    "        #Sarsa learning no tabular model\n",
    "        SARSA = True\n",
    "        double = False\n",
    "        \n",
    "        agent = GeneralQ(number_of_states, number_of_actions, state, SARSA, \n",
    "                     double, step_size=learning_rate) #here eps set to 0.1 anyway\n",
    "        action = agent.behaviour_policy(agent._q[state])\n",
    "        \n",
    "    elif model==4:\n",
    "        #Double Sarsa learning no tabular model\n",
    "        SARSA = True\n",
    "        double = True\n",
    "        \n",
    "        agent = GeneralQ(number_of_states, number_of_actions, state, SARSA, \n",
    "                     double, step_size=learning_rate) #here eps set to 0.1 anyway\n",
    "        action = agent.behaviour_policy(agent._q[state])\n",
    "    \n",
    "    elif model==5:\n",
    "        #Experience replay tabular Q learning - just 5 replays for now...as it doesn't learn\n",
    "        SARSA = False\n",
    "        double = False\n",
    "        \n",
    "        agent = ExpTabAgent(number_of_states, number_of_actions, state,\n",
    "                           SARSA, double, eps=egreedy, model=TabularModel, \n",
    "                            step_size=learning_rate, num_offline_updates=exprep)\n",
    "        action = agent.behaviour(state)\n",
    "    \n",
    "    elif model==6:\n",
    "        #Experience replay double tabular Q learning\n",
    "        SARSA = False\n",
    "        double = True\n",
    "        \n",
    "        agent = ExpTabAgent(number_of_states, number_of_actions, state,\n",
    "                           SARSA, double, eps=egreedy, model=TabularModel, \n",
    "                            step_size=learning_rate, num_offline_updates=exprep)\n",
    "        action = agent.behaviour(state)\n",
    "    \n",
    "    elif model==7:\n",
    "        #Dyna Q learning\n",
    "        SARSA = False\n",
    "        double = True\n",
    "        \n",
    "        agent = DynaQ(number_of_states, number_of_actions, state,\n",
    "           model=TabularModel, num_offline_updates=exprep, step_size=0.1, eps=egreedy)\n",
    "        \n",
    "        action = agent.behaviour_policy(agent._q[state])\n",
    "        \n",
    "    #action = agent.behaviour_policy(agent._q[state]) #if dyna\n",
    "    #action = agent.behaviour(state) #if exptab\n",
    "\n",
    "    for i_episode in range(episodes-1):\n",
    "        state = start_state\n",
    "\n",
    "        while True:    \n",
    "            prop = u_star[action]\n",
    "            #reward, d, new_state, dx, done = Mark.step((prop, wealth))\n",
    "\n",
    "            reward, _, _, dx, done = Mark.step((prop, wealth))\n",
    "\n",
    "            wealth += dx\n",
    "            new_state = int(wealth/10)\n",
    "\n",
    "            action = agent.step(reward, gamma, new_state)\n",
    "\n",
    "            #Q[state, action] = reward + gamma * torch.max(Q[new_state])\n",
    "            #Q[state, action] = (1 - learning_rate) * Q[state, action] \\\n",
    "            #    + learning_rate * (reward + gamma * torch.max(Q[new_state])) #this is a simple torch implementation\n",
    "            rsum += reward\n",
    "            state = new_state\n",
    "\n",
    "            if done:\n",
    "                state = start_state\n",
    "                agent._s = state\n",
    "\n",
    "                if model == 5 or model == 6 :\n",
    "                    agent._last_action = agent.behaviour(state)\n",
    "                else:\n",
    "                    action = agent.behaviour_policy(agent._q[state]) #if dyna\n",
    "                    \n",
    "                wealth_episodes.append(wealth)\n",
    "                utilities_mod.append(np.log(wealth))\n",
    "                rewards_mod.append(rsum)\n",
    "                rsum = 0\n",
    "                wealth = 100.0\n",
    "                break\n",
    "\n",
    "    \n",
    "    \n",
    "    #store the q_values for later testing\n",
    "    q_name = 'model'+str(model)+'epi'+str(episodes)+'er'+str(exprep)\n",
    "    \n",
    "    filename = 'q_tables/'+q_name\n",
    "    np.save(filename, agent.q_values)\n",
    "    \n",
    "    #print(agent.q_values)\n",
    "    print(qname + \" last 50,000 rewards mean\",np.mean(np.array(rewards_mod)[-50000:]))\n",
    "    \n",
    "    return agent.q_values, utilities_mod, rewards_mod, wealth_episodes\n"
   ]
  },
  {
   "cell_type": "code",
   "execution_count": 43,
   "metadata": {},
   "outputs": [
    {
     "data": {
      "text/plain": [
       "'\\nwealth = 100.0\\ntime_periods = M\\n\\nutilities_mod = []\\nrewards_mod = []\\nrsum = 0\\n\\nnumber_of_actions = utes\\n\\nstart_state = 10\\nstate =start_state #try int wealth for states\\n\\ngamma = 0.95\\nlearning_rate = 0.10\\n#egreedy = 0.7\\n#egreedy_final = 0.1\\n#egreedy_decay = 0.9975\\negreedy = 0.1\\n\\nnumber_of_states = 100\\n\\nepisodes = 2000000 #500k worked well? as did 1m\\nMark = Market(episodes, time_periods, mu, rf, sigma)\\n\\n#agent = ExpTabAgent(number_of_states, number_of_actions, state,\\n#                    SARSA=False, double=True, eps=egreedy, model=TabularModel, \\n#                    step_size=learning_rate, num_offline_updates=0)\\n\\n#agent = DynaQ(number_of_states, number_of_actions, state,\\n#   model=TabularModel, num_offline_updates=1, step_size=0.1, eps=egreedy)\\n\\n\\n#agent = GeneralQ(number_of_states, number_of_actions, state, SARSA=True, \\n#                 double =False, step_size=learning_rate)\\n\\n\\n#action = agent.behaviour_policy(agent._q[state]) #if dyna\\naction = agent.behaviour(state) #if exptab\\n\\n\\nfor i_episode in range(episodes-1):\\n    state = start_state\\n\\n    while True:    \\n        prop = u_star[action]\\n        #reward, d, new_state, dx, done = Mark.step((prop, wealth))\\n        \\n        reward, _, _, dx, done = Mark.step((prop, wealth))\\n\\n        wealth += dx\\n        new_state = int(wealth/10)\\n        \\n        action = agent.step(reward, gamma, new_state)\\n\\n        #Q[state, action] = reward + gamma * torch.max(Q[new_state])\\n        #Q[state, action] = (1 - learning_rate) * Q[state, action]         #    + learning_rate * (reward + gamma * torch.max(Q[new_state]))\\n        rsum += reward\\n        state = new_state\\n        \\n        if done:\\n            state = start_state\\n            agent._s = state\\n            \\n            #action = agent.behaviour_policy(agent._q[state]) #if dyna\\n            agent._last_action = agent.behaviour(state)\\n            \\n            utilities_mod.append(np.log(wealth))\\n            rewards_mod.append(rsum)\\n            rsum = 0\\n            wealth = 100.0\\n            break\\n            \\nprint(agent.q_values)\\nprint(\"Last 50,000 rewards mean - epsilon greedy\",np.mean(np.array(rewards_mod)[-50000:]))\\n'"
      ]
     },
     "execution_count": 43,
     "metadata": {},
     "output_type": "execute_result"
    }
   ],
   "source": [
    "#Create a variety of simpler RL agents...had a lot of problems learning anything and will show below\n",
    "#Now to train an RL agent - I had a lot of problems here...the agent doesn't control the price process\n",
    "#and thus little influence on the next state. In Ritter he includes prices, and number of shares in the state...\n",
    "#however he is doing an arbitrage including transaction costs\n",
    "\n",
    "#I thought that this was akin to a bandit problem, however I want to incorporate wealth levels as a choice for the\n",
    "#agent. Thus at each of 20 time periods the agent takes one of 15 actions (proportion of wealth to invest). \n",
    "#There are many episodes...this could also be done in a continuing environment (due to no terminal reward)\n",
    "\n",
    "#However Ritter used an OU, so his prices do not diverge, whereas I have GBM and my states (wealth levels) will get \n",
    "#more and more, which is why I went with episodic here.\n",
    "\n",
    "#Because of difficulties getting anything working I am using a lot of episodes and the learning can be unstable \n",
    "#I have q learning, sarsa, double q, dyna, and experiencereply. \n",
    "\n",
    "#The state action space is small and can be tabulated (perhaps extensions to this?), but the learning is \n",
    "#hard due to stochasticity in the problem\n",
    "\n",
    "\n",
    "#Also did a simple torch q learning implementation - will tidy this up so I can just call different RL algos here\n",
    "#and run experiments as store results en bloc\n",
    "\n",
    "#Note states are in wealth buckets (wealth divided by 10)...the reward is what the agent is maximising\n",
    "#the market runs its price process independently of the agent, and executes his orders, and updates his wealth\n",
    "#and gives a reward (not the same as change in wealth but corresponding to the step by step reward above)\n",
    "#its a slightly odd set up...the market has a state and executes the agents orders and sends out rewards and wealth \n",
    "#change...the agent has a wealth state and action. So the new state from the market is not the new state of the agent\n",
    "\n",
    "\"\"\"\n",
    "wealth = 100.0\n",
    "time_periods = M\n",
    "\n",
    "utilities_mod = []\n",
    "rewards_mod = []\n",
    "rsum = 0\n",
    "\n",
    "number_of_actions = utes\n",
    "\n",
    "start_state = 10\n",
    "state =start_state #try int wealth for states\n",
    "\n",
    "gamma = 0.95\n",
    "learning_rate = 0.10\n",
    "#egreedy = 0.7\n",
    "#egreedy_final = 0.1\n",
    "#egreedy_decay = 0.9975\n",
    "egreedy = 0.1\n",
    "\n",
    "number_of_states = 100\n",
    "\n",
    "episodes = 2000000 #500k worked well? as did 1m\n",
    "Mark = Market(episodes, time_periods, mu, rf, sigma)\n",
    "\n",
    "#agent = ExpTabAgent(number_of_states, number_of_actions, state,\n",
    "#                    SARSA=False, double=True, eps=egreedy, model=TabularModel, \n",
    "#                    step_size=learning_rate, num_offline_updates=0)\n",
    "\n",
    "#agent = DynaQ(number_of_states, number_of_actions, state,\n",
    "#   model=TabularModel, num_offline_updates=1, step_size=0.1, eps=egreedy)\n",
    "\n",
    "\n",
    "#agent = GeneralQ(number_of_states, number_of_actions, state, SARSA=True, \n",
    "#                 double =False, step_size=learning_rate)\n",
    "\n",
    "\n",
    "#action = agent.behaviour_policy(agent._q[state]) #if dyna\n",
    "action = agent.behaviour(state) #if exptab\n",
    "\n",
    "\n",
    "for i_episode in range(episodes-1):\n",
    "    state = start_state\n",
    "\n",
    "    while True:    \n",
    "        prop = u_star[action]\n",
    "        #reward, d, new_state, dx, done = Mark.step((prop, wealth))\n",
    "        \n",
    "        reward, _, _, dx, done = Mark.step((prop, wealth))\n",
    "\n",
    "        wealth += dx\n",
    "        new_state = int(wealth/10)\n",
    "        \n",
    "        action = agent.step(reward, gamma, new_state)\n",
    "\n",
    "        #Q[state, action] = reward + gamma * torch.max(Q[new_state])\n",
    "        #Q[state, action] = (1 - learning_rate) * Q[state, action] \\\n",
    "        #    + learning_rate * (reward + gamma * torch.max(Q[new_state]))\n",
    "        rsum += reward\n",
    "        state = new_state\n",
    "        \n",
    "        if done:\n",
    "            state = start_state\n",
    "            agent._s = state\n",
    "            \n",
    "            #action = agent.behaviour_policy(agent._q[state]) #if dyna\n",
    "            agent._last_action = agent.behaviour(state)\n",
    "            \n",
    "            utilities_mod.append(np.log(wealth))\n",
    "            rewards_mod.append(rsum)\n",
    "            rsum = 0\n",
    "            wealth = 100.0\n",
    "            break\n",
    "            \n",
    "print(agent.q_values)\n",
    "print(\"Last 50,000 rewards mean - epsilon greedy\",np.mean(np.array(rewards_mod)[-50000:]))\n",
    "\"\"\""
   ]
  },
  {
   "cell_type": "code",
   "execution_count": null,
   "metadata": {},
   "outputs": [
    {
     "name": "stdout",
     "output_type": "stream",
     "text": [
      "Last 50,000 rewards mean - epsilon greedy 13.026246705\n",
      "Last 50,000 rewards mean - epsilon greedy 13.0189115385\n",
      "Last 50,000 rewards mean - epsilon greedy 12.3139426815\n",
      "Last 50,000 rewards mean - epsilon greedy 13.1172351543\n",
      "Last 50,000 rewards mean - epsilon greedy 11.2578538348\n"
     ]
    }
   ],
   "source": [
    "#What does the agent think the optimal actions are in each wealth state\n",
    "episodes = 1000000\n",
    "for i in range(1,8):\n",
    "    model = i\n",
    "    Q, _, _, _ = train_agent(model, episodes, exprep=5)\n",
    "\n",
    "#np.argmax(Q,1)"
   ]
  },
  {
   "cell_type": "code",
   "execution_count": null,
   "metadata": {},
   "outputs": [],
   "source": [
    "#make sure we can load and save trained models\n",
    "#np.save('q_tables/doubleq3m_5exp_ok',agent.q_values)\n",
    "\n",
    "#Q = agent.q_values #using current model just trained\n",
    "#Q = np.load('q_tables/best_q_so_far.npy')"
   ]
  },
  {
   "cell_type": "code",
   "execution_count": null,
   "metadata": {
    "collapsed": true
   },
   "outputs": [],
   "source": [
    "#Create a test bed...and examine if this set up is even learnable\n",
    "#Need to create a testbed\n",
    "#I will compare a random agent, to a merton optimal agent, to a trained agent on a new testset generated\n",
    "#The agent knows nothing of utilities, so I will compare utilities at the end for the episodes\n",
    "\n",
    "def execute_strat(policy, q_values=None, episodes=300001):\n",
    "    #Execute learned policy\n",
    "    # compare to random baseline or best\n",
    "    #import torch\n",
    "    #this needs a lot of tidying lots of hard coded dependencies on the above\n",
    "    \n",
    "    wealth = 100.0\n",
    "\n",
    "    time_periods = M\n",
    "    utilities_test = []\n",
    "    rewards_test = []\n",
    "    step_rewards = []\n",
    "    rsum = 0\n",
    "\n",
    "    number_of_actions = utes\n",
    "\n",
    "    #this needs tidying - specific for problem above\n",
    "    start_state = 10\n",
    "    state =start_state \n",
    "\n",
    "    number_of_states = 100\n",
    "\n",
    "    #Q = torch.zeros([number_of_states, number_of_actions])\n",
    "    #episodes = 3000001\n",
    "    \n",
    "    Mark = Market(episodes, time_periods, mu, rf, sigma)\n",
    "\n",
    "    for i_episode in range(episodes-1):\n",
    "        state = start_state\n",
    "\n",
    "        while True:\n",
    "            #this is for q values using torch\n",
    "            #random_values = Q[state] + torch.rand(1,number_of_actions) / 1000\n",
    "            #action = torch.max(random_values,1)[1][0]\n",
    "            #using my code???\n",
    "            \n",
    "            if policy==\"Agent\":\n",
    "                #action = np.argmax(agent.q_values[state])\n",
    "                action = np.argmax(q_values[state])\n",
    "            elif policy==\"Random\":\n",
    "                action = int(torch.LongTensor(1).random_(0, number_of_actions))\n",
    "            elif policy==\"Merton\":\n",
    "                action = best_action\n",
    "            \n",
    "            #if loading \n",
    "            #action = np.argmax(Q1[state])\n",
    "            #print(action)\n",
    "\n",
    "            #new_state, reward, done, info = env.step(action)\n",
    "            prop = u_star[action]\n",
    "            reward, d, new_state, dx, done = Mark.step((prop, wealth))\n",
    "\n",
    "            wealth += dx\n",
    "            new_state = int(wealth/10)\n",
    "\n",
    "            rsum += reward\n",
    "            state = new_state\n",
    "            \n",
    "            step_rewards.append(reward)\n",
    "\n",
    "            if done:\n",
    "                state = start_state\n",
    "\n",
    "                utilities_test.append(np.log(wealth))\n",
    "                rewards_test.append(rsum)\n",
    "                rsum = 0\n",
    "                wealth = 100.0\n",
    "                break\n",
    "                \n",
    "    return utilities_test, rewards_test, step_rewards"
   ]
  },
  {
   "cell_type": "code",
   "execution_count": null,
   "metadata": {},
   "outputs": [],
   "source": [
    "#This perhaps illustrates where some difficulties are coming from\n",
    "#the differences in summed rewards and utilities are incredibly small \n",
    "\n",
    "def make_baseline_graphs(utilities_test_rand,utilities_test_best,\n",
    "                         rewards_test_rand,rewards_test_best):\n",
    "\n",
    "    sns.distplot(utilities_test_rand, label='Random')\n",
    "    #sns.distplot(utilities_test)\n",
    "    sns.distplot(utilities_test_best, label='Merton')\n",
    "    plt.title('Dist of end Utilities - Merton v Random')\n",
    "    plt.xlabel('Utility')\n",
    "    plt.ylabel('Likelihood')\n",
    "    plt.legend()\n",
    "    plt.show()\n",
    "    \n",
    "    #This perhaps illustrates where some difficulties are coming from\n",
    "\n",
    "    sns.distplot(rewards_test_rand, label='Random')\n",
    "    #sns.distplot(utilities_test)\n",
    "    sns.distplot(rewards_test_best, label='Merton')\n",
    "    plt.title('Dist of Summed rewards - Merton v Random')\n",
    "    plt.xlabel('Episode sum of rewards')\n",
    "    plt.ylabel('Likelihood')\n",
    "    plt.legend()\n",
    "    plt.show()\n",
    "    \n",
    "    #The agent has even less to go on...only incremental step by step rewards\n",
    "    #the difference between rewards from knowing nothing and the best actions is below !\n",
    "\n",
    "    sns.distplot(step_rew_rand, label='Random')\n",
    "    #sns.distplot(utilities_test)\n",
    "    sns.distplot(step_rew_best, label='Merton')\n",
    "    plt.title('Dist of Step rewards - Merton v Random')\n",
    "    plt.xlabel('Reward')\n",
    "    plt.ylabel('Likelihood')\n",
    "    plt.legend()\n",
    "    plt.show()\n",
    "    \n",
    "    #Is this even learnable ? I will look at it a bit like a poker player...\n",
    "    #Of the 3million episodes above, chop them into 3000 independent blocks of 1000\n",
    "    #and examine the difference in distribution of merton v random for this problem\n",
    "    block_utilities_test_rand = np.mean(np.array(utilities_test_rand).reshape(1000,-1),0)\n",
    "    block_utilities_test_best = np.mean(np.array(utilities_test_best).reshape(1000,-1),0)\n",
    "    \n",
    "    sns.distplot(block_utilities_test_best, label=\"Merton optimal\")\n",
    "    #sns.distplot(block_utilities_test)\n",
    "    sns.distplot(block_utilities_test_rand, label=\"Random agent\")\n",
    "    plt.title('Distribution of final utilities Merton v Random (grouped by 1000 episodes)')\n",
    "    plt.xlabel('Utility')\n",
    "    plt.ylabel('Frequency')\n",
    "    plt.legend()\n",
    "    plt.show()\n",
    "    \n",
    "    #Now for rewrds...\n",
    "\n",
    "    #block_rew_test = np.mean(np.array(utilities_test).reshape(1000,-1),0)\n",
    "    block_rew_test_rand = np.mean(np.array(rewards_test_rand).reshape(1000,-1),0)\n",
    "    block_rew_test_best = np.mean(np.array(rewards_test_best).reshape(1000,-1),0)\n",
    "    \n",
    "    sns.distplot(block_rew_test_best, label=\"Merton optimal\")\n",
    "    #sns.distplot(block_utilities_test)\n",
    "    sns.distplot(block_rew_test_rand, label=\"Random agent\")\n",
    "    plt.title('Distribution of Final rewards Merton v Random (per 1000 episodes)')\n",
    "    plt.xlabel('Episode rewards')\n",
    "    plt.ylabel('Frequency')\n",
    "    plt.legend()\n",
    "    plt.show()"
   ]
  },
  {
   "cell_type": "code",
   "execution_count": null,
   "metadata": {},
   "outputs": [],
   "source": [
    "#Show how well the agent did compared to the above\n",
    "\n",
    "def make_agent_graphs(block_utilities_test_best,block_utilities_test,\n",
    "                         block_utilities_test_rand,rewards_test_best):\n",
    "\n",
    "    sns.distplot(block_utilities_test_best, label=\"Merton optimal\")\n",
    "    sns.distplot(block_utilities_test, label=\"Trained Agent\")\n",
    "    sns.distplot(block_utilities_test_rand, label=\"Random agent\")\n",
    "    plt.title('Distribution of Final rewards Merton v Trained Agent v Random (per 1000 episodes)')\n",
    "    plt.xlabel('Episode rewards')\n",
    "    plt.ylabel('Frequency')\n",
    "    plt.legend()\n",
    "    plt.show()\n",
    "    \n",
    "    plt.violinplot([block_utilities_test_rand, block_utilities_test, block_utilities_test_best])\n",
    "    plt.xticks([1,2,3], [\"Random Agent\", \"Trained Agent\", \"Merton Optimal\"], rotation=60, size=12)\n",
    "    plt.ylabel(\"Test Utility\", size=12)\n",
    "    plt.xlabel(\"Agent\", size=12)\n",
    "    ax = plt.gca()\n",
    "    ax.set_axis_bgcolor('white')\n",
    "    ax.grid(0)\n",
    "    plt.title(\"Violin plot of utilities - Random v Merton v Agent\")\n",
    "    plt.show()\n",
    "    \n",
    "    plt.plot(np.convolve(utilities_test_best, np.ones((10000,))/10000, mode='valid'), label='Merton Optimal')\n",
    "    plt.plot(np.convolve(utilities_test_rand, np.ones((10000,))/10000, mode='valid'), label='Random agent')\n",
    "    plt.plot(np.convolve(utilities_test, np.ones((10000,))/10000, mode='valid'), label='Trained agent')\n",
    "    plt.title('Moving average 10,000 episode utilities')\n",
    "    plt.ylabel('Utility')\n",
    "    plt.xlabel('Episode')\n",
    "    plt.legend()\n",
    "    plt.show()"
   ]
  },
  {
   "cell_type": "code",
   "execution_count": null,
   "metadata": {
    "collapsed": true
   },
   "outputs": [],
   "source": [
    "Q = np.load('q_tables/best_q_so_far.npy')"
   ]
  },
  {
   "cell_type": "code",
   "execution_count": null,
   "metadata": {
    "collapsed": true
   },
   "outputs": [],
   "source": [
    "#run the various graphs\n",
    "utilities_test, rewards_test, step_rew_test = execute_strat('Agent', q_values=Q)\n",
    "utilities_test_rand, rewards_test_rand, step_rew_rand = execute_strat('Random')\n",
    "utilities_test_best, rewards_test_best, step_rew_best = execute_strat('Merton')\n",
    "\n",
    "block_utilities_test = np.mean(np.array(utilities_test).reshape(1000,-1),0)\n",
    "block_utilities_test_rand = np.mean(np.array(utilities_test_rand).reshape(1000,-1),0)\n",
    "block_utilities_test_best = np.mean(np.array(utilities_test_best).reshape(1000,-1),0)"
   ]
  },
  {
   "cell_type": "code",
   "execution_count": null,
   "metadata": {
    "collapsed": true
   },
   "outputs": [],
   "source": [
    "make_baseline_graphs(utilities_test_rand,utilities_test_best,\n",
    "                         rewards_test_rand,rewards_test_best)"
   ]
  },
  {
   "cell_type": "code",
   "execution_count": null,
   "metadata": {
    "collapsed": true
   },
   "outputs": [],
   "source": [
    "make_agent_graphs(block_utilities_test_best,block_utilities_test,\n",
    "                         block_utilities_test_rand,rewards_test_best)"
   ]
  },
  {
   "cell_type": "code",
   "execution_count": null,
   "metadata": {},
   "outputs": [],
   "source": [
    "#Remember to start logging and saving all the work and tidy thisstuff to make compelling...\n",
    "#plan is ...\n",
    "\n",
    "#\n",
    "\"\"\"\n",
    "\n",
    "I am thinking of the following 'story' - \n",
    "1) Utility theory and key results \n",
    "2) Stochastic processes and optimal multi-period investment \n",
    "3) Merton's result \n",
    "4) Ritter paper reformulating end utilities into incremental rewards \n",
    "5) Reinforcement learning intro and toolbox \n",
    "5) Implement Ritter paper to prove trading an OU process with and without costs \n",
    "6) Show how Ritter can be transferred to Merton problem \n",
    "7) Implementation - monte carlo sim,from analytic to numeric solution, mean var equivalent - \n",
    "reformulating kappa, reformulating MV equivalent to a market environment for Q learning with incremental rewards \n",
    "8) results with Q learning...how it breaks down with noise, what it learned...\n",
    "9) methods to improve - to control bias, noise, learn with fewer examples?\n",
    "\n",
    "\n",
    "Need to clean and tidy this for different processes, parameters, rl algos\n",
    "The q table set up is very simple, extensions? continous state action space?\n",
    "function approx?\n",
    "\n",
    "\"\"\""
   ]
  },
  {
   "cell_type": "code",
   "execution_count": null,
   "metadata": {
    "collapsed": true
   },
   "outputs": [],
   "source": []
  }
 ],
 "metadata": {
  "kernelspec": {
   "display_name": "Python 3",
   "language": "python",
   "name": "python3"
  },
  "language_info": {
   "codemirror_mode": {
    "name": "ipython",
    "version": 3
   },
   "file_extension": ".py",
   "mimetype": "text/x-python",
   "name": "python",
   "nbconvert_exporter": "python",
   "pygments_lexer": "ipython3",
   "version": "3.6.1"
  }
 },
 "nbformat": 4,
 "nbformat_minor": 2
}
