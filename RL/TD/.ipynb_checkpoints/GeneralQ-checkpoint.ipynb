{
 "cells": [
  {
   "cell_type": "code",
   "execution_count": null,
   "metadata": {},
   "outputs": [],
   "source": [
    "import sys\n",
    "if \"../\" not in sys.path:\n",
    "  sys.path.append(\"../\") \n",
    "import itertools\n",
    "\n",
    "from lib.utes import run_experiment, plot_values, plot_greedy_policy, \\\n",
    "                        plot_action_values, random_policy, plot_state_value\n",
    "\n",
    "from lib.envs.grid import Grid, FeatureGrid, AltGrid\n",
    "from TD import RandomTD, GeneralQ, ExperienceQ, DynaQ, FeatureExperienceQ, FeatureDynaQ\n",
    "from FA.model import TabularModel, LinearModel\n",
    "\n",
    "from lib.envs.cliff_walking import CliffWalkingEnv\n",
    "from lib.envs.windygridworld import WindyGridworldEnv\n",
    "from lib.envs.gridworld import GridworldEnv\n",
    "from lib.envs.blackjack import BlackjackEnv"
   ]
  },
  {
   "cell_type": "code",
   "execution_count": 2,
   "metadata": {
    "collapsed": true
   },
   "outputs": [],
   "source": [
    "import matplotlib.pyplot as plt\n",
    "import numpy as np\n",
    "from collections import namedtuple\n",
    "%matplotlib inline\n",
    "\n",
    "np.set_printoptions(precision=3, suppress=1)\n",
    "plt.style.use('seaborn-notebook')"
   ]
  },
  {
   "cell_type": "code",
   "execution_count": 3,
   "metadata": {},
   "outputs": [
    {
     "data": {
      "image/png": "[encoded data removed]",
      "text/plain": [
       "<matplotlib.figure.Figure at 0x1085941d0>"
      ]
     },
     "metadata": {},
     "output_type": "display_data"
    }
   ],
   "source": [
    "maze = Grid()\n",
    "maze.plot_grid()"
   ]
  },
  {
   "cell_type": "code",
   "execution_count": null,
   "metadata": {},
   "outputs": [],
   "source": [
    "agent = RandomTD(maze._layout.size, 4, maze.get_obs())\n",
    "run_experiment(maze, agent, int(1e5))\n",
    "v = agent.get_values()\n",
    "plot_values(v.reshape(maze._layout.shape), colormap=\"hot\", vmin=-10, vmax=5)"
   ]
  },
  {
   "cell_type": "code",
   "execution_count": null,
   "metadata": {},
   "outputs": [],
   "source": [
    "#Q learning\n",
    "maze = Grid(noisy=False)\n",
    "\n",
    "agent = GeneralQ(maze._layout.size, 4, maze.get_obs(),\n",
    "                 SARSA=False, double=False)\n",
    "\n",
    "run_experiment(maze, agent, int(1e5))\n",
    "q = agent.q_values.reshape(maze._layout.shape + (4,))\n",
    "plot_action_values(q)"
   ]
  },
  {
   "cell_type": "code",
   "execution_count": null,
   "metadata": {},
   "outputs": [],
   "source": [
    "#Sarsa\n",
    "agent = GeneralQ(maze._layout.size, 4, maze.get_obs(),\n",
    "                 SARSA=True, double=False)\n",
    "\n",
    "run_experiment(maze, agent, int(1e5))\n",
    "q = agent.q_values.reshape(maze._layout.shape + (4,))\n",
    "plot_action_values(q)"
   ]
  },
  {
   "cell_type": "code",
   "execution_count": null,
   "metadata": {},
   "outputs": [],
   "source": [
    "#Double Q learning\n",
    "maze = Grid(noisy=False)\n",
    "\n",
    "agent = GeneralQ(maze._layout.size, 4, maze.get_obs(),\n",
    "                 SARSA=False, double=True)\n",
    "\n",
    "run_experiment(maze, agent, int(1e5))\n",
    "q = agent.q_values.reshape(maze._layout.shape + (4,))\n",
    "plot_action_values(q)"
   ]
  },
  {
   "cell_type": "code",
   "execution_count": null,
   "metadata": {},
   "outputs": [],
   "source": [
    "mean_reward_q_learning = []\n",
    "mean_reward_double_q_learning = []\n",
    "mean_reward_sarsa = []\n",
    "\n",
    "for _ in range(20):\n",
    "  maze = Grid(noisy=True)\n",
    "  q_agent = GeneralQ(maze._layout.size, 4, maze.get_obs(),\n",
    "                     SARSA=False, double=False, step_size=0.1)\n",
    "  dq_agent = GeneralQ(maze._layout.size, 4, maze.get_obs(),\n",
    "                      SARSA=False, double=True, step_size=0.1)\n",
    "  sarsa_agent = GeneralQ(maze._layout.size, 4, maze.get_obs(),\n",
    "                     SARSA=True, double=False)\n",
    "\n",
    "  mean_reward_q_learning.append(run_experiment(maze, q_agent, int(1e5)))\n",
    "  mean_reward_double_q_learning.append(run_experiment(maze, dq_agent, int(1e5)))\n",
    "  mean_reward_sarsa.append(run_experiment(maze, sarsa_agent, int(1e5)))\n",
    "\n",
    "plt.violinplot([mean_reward_sarsa,mean_reward_q_learning, mean_reward_double_q_learning])\n",
    "plt.xticks([1, 2,3], [\"Sarsa\",\"Q-learning\", \"Double Q-learning\"], rotation=60, size=12)\n",
    "plt.ylabel(\"average reward during learning\", size=12)\n",
    "ax = plt.gca()\n",
    "ax.set_axis_bgcolor('white')\n",
    "ax.grid(0)"
   ]
  },
  {
   "cell_type": "code",
   "execution_count": null,
   "metadata": {},
   "outputs": [],
   "source": [
    "feat_grid = FeatureGrid()\n",
    "\n",
    "# Plot the features of each state\n",
    "shape = feat_grid._layout.shape\n",
    "f, axes = plt.subplots(shape[0], shape[1])\n",
    "for state_idx, ax in enumerate(axes.flatten()):\n",
    "  ax.imshow(np.reshape((feat_grid.int_to_features(state_idx)[:-1]),(9,9)), interpolation='nearest')\n",
    "  ax.set_xticks([])\n",
    "  ax.set_yticks([])"
   ]
  },
  {
   "cell_type": "code",
   "execution_count": null,
   "metadata": {},
   "outputs": [],
   "source": [
    "plot_greedy_policy(maze, q)"
   ]
  },
  {
   "cell_type": "code",
   "execution_count": null,
   "metadata": {},
   "outputs": [],
   "source": [
    "#def random_policy(q):\n",
    "#  return np.random.randint(4)\n",
    "\n",
    "grid = Grid()\n",
    "agent = ExperienceQ(\n",
    "  grid._layout.size, 4, grid.get_obs(),\n",
    "   num_offline_updates=0, step_size=0.1)\n",
    "run_experiment(grid, agent, int(1e4))\n",
    "q = agent.q_values.reshape(grid._layout.shape + (4,))\n",
    "plot_action_values(q)"
   ]
  },
  {
   "cell_type": "code",
   "execution_count": null,
   "metadata": {},
   "outputs": [],
   "source": [
    "grid = Grid()\n",
    "agent = ExperienceQ(\n",
    "  grid._layout.size, 4, grid.get_obs(),\n",
    "   num_offline_updates=30, step_size=0.1)\n",
    "run_experiment(grid, agent, int(1e4))\n",
    "q = agent.q_values.reshape(grid._layout.shape + (4,))\n",
    "plot_action_values(q)"
   ]
  },
  {
   "cell_type": "code",
   "execution_count": null,
   "metadata": {},
   "outputs": [],
   "source": [
    "grid = Grid()\n",
    "model = TabularModel\n",
    "agent = DynaQ(\n",
    "  grid._layout.size, 4, grid.get_obs(),\n",
    "   model, num_offline_updates=30, step_size=0.1, eps =1.0)\n",
    "run_experiment(grid, agent, int(1e4))\n",
    "q = agent.q_values.reshape(grid._layout.shape + (4,))\n",
    "plot_action_values(q)"
   ]
  },
  {
   "cell_type": "code",
   "execution_count": null,
   "metadata": {},
   "outputs": [],
   "source": [
    "grid = Grid()\n",
    "agent = ExperienceQ(\n",
    "  grid._layout.size, 4, grid.get_obs(),\n",
    "   num_offline_updates=0, step_size=0.1, eps=0.3)\n",
    "run_experiment(grid, agent, int(1e4))\n",
    "q = agent.q_values.reshape(grid._layout.shape + (4,))\n",
    "plot_action_values(q)\n",
    "plot_greedy_policy(grid, q)"
   ]
  },
  {
   "cell_type": "code",
   "execution_count": null,
   "metadata": {},
   "outputs": [],
   "source": [
    "grid = Grid()\n",
    "agent = ExperienceQ(\n",
    "  grid._layout.size, 4, grid.get_obs(),\n",
    "   num_offline_updates=30, step_size=0.1, eps=0.3)\n",
    "run_experiment(grid, agent, int(1e3))\n",
    "q = agent.q_values.reshape(grid._layout.shape + (4,))\n",
    "plot_action_values(q)\n",
    "plot_greedy_policy(grid, q)"
   ]
  },
  {
   "cell_type": "code",
   "execution_count": null,
   "metadata": {},
   "outputs": [],
   "source": [
    "#here...\n",
    "grid = Grid()\n",
    "model = TabularModel\n",
    "agent = DynaQ(\n",
    "  grid._layout.size, 4, grid.get_obs(),\n",
    "   model, num_offline_updates=10, step_size=0.1, eps=1.0)\n",
    "run_experiment(grid, agent, int(2e3))\n",
    "q = agent.q_values.reshape(grid._layout.shape + (4,))\n",
    "plot_action_values(q)\n",
    "plot_greedy_policy(grid, q)"
   ]
  },
  {
   "cell_type": "code",
   "execution_count": null,
   "metadata": {},
   "outputs": [],
   "source": [
    "grid = FeatureGrid()\n",
    "\n",
    "agent = FeatureExperienceQ(\n",
    "  number_of_features=grid.number_of_features, number_of_actions=4,\n",
    "  number_of_states=grid._layout.size, initial_state=grid.get_obs(),\n",
    "  num_offline_updates=0, step_size=0.1, eps=1.0)\n",
    "run_experiment(grid, agent, int(1e5))\n",
    "q = np.reshape(\n",
    "    np.array([agent.q(grid.int_to_features(i)) for i in range(grid.number_of_states)]),\n",
    "    [grid._layout.shape[0], grid._layout.shape[1], 4])\n",
    "plot_action_values(q)\n",
    "plot_greedy_policy(grid, q)"
   ]
  },
  {
   "cell_type": "code",
   "execution_count": null,
   "metadata": {},
   "outputs": [],
   "source": [
    "grid = FeatureGrid()\n",
    "\n",
    "agent = FeatureExperienceQ(\n",
    "  number_of_features=grid.number_of_features, number_of_actions=4,\n",
    "  number_of_states=grid._layout.size, initial_state=grid.get_obs(),\n",
    "  num_offline_updates=10, step_size=0.1, eps=0.5)\n",
    "run_experiment(grid, agent, int(1e5))\n",
    "q = np.reshape(\n",
    "    np.array([agent.q(grid.int_to_features(i)) for i in range(grid.number_of_states)]),\n",
    "    [grid._layout.shape[0], grid._layout.shape[1], 4])\n",
    "plot_action_values(q)\n",
    "plot_greedy_policy(grid, q)"
   ]
  },
  {
   "cell_type": "code",
   "execution_count": null,
   "metadata": {},
   "outputs": [],
   "source": [
    "grid = FeatureGrid()\n",
    "model = LinearModel\n",
    "\n",
    "agent = FeatureDynaQ(\n",
    "  number_of_features=grid.number_of_features, \n",
    "  number_of_actions=4,\n",
    "  model=model,\n",
    "  number_of_states=grid._layout.size, \n",
    "  initial_state=grid.get_obs(),\n",
    "  num_offline_updates=10, \n",
    "  step_size=0.01,\n",
    "  eps = 0.5)\n",
    "\n",
    "run_experiment(grid, agent, int(1e5))\n",
    "q = np.reshape(\n",
    "    np.array([agent.q(grid.int_to_features(i)) for i in range(grid.number_of_states)]),\n",
    "    [grid._layout.shape[0], grid._layout.shape[1], 4])\n",
    "plot_action_values(q)\n",
    "plot_greedy_policy(grid, q)"
   ]
  },
  {
   "cell_type": "code",
   "execution_count": null,
   "metadata": {},
   "outputs": [],
   "source": [
    "pretrain_steps = 2e4\n",
    "new_env_steps = pretrain_steps / 5\n",
    "\n",
    "\n",
    "# Train on first environment\n",
    "grid = Grid()\n",
    "agent = DynaQ(\n",
    "  grid._layout.size, 4, grid.get_obs(),\n",
    "   model=TabularModel, num_offline_updates=30, step_size=0.1, eps=0.5)\n",
    "run_experiment(grid, agent, int(pretrain_steps))\n",
    "q = agent.q_values.reshape(grid._layout.shape + (4,))\n",
    "plot_state_value(q)\n",
    "plot_greedy_policy(grid, q)\n",
    "\n",
    "# Change goal location\n",
    "alt_grid = AltGrid()\n",
    "run_experiment(alt_grid, agent, int(new_env_steps))\n",
    "alt_q = agent.q_values.reshape(alt_grid._layout.shape + (4,))\n",
    "plot_state_value(alt_q)\n",
    "plot_greedy_policy(alt_grid, q)"
   ]
  },
  {
   "cell_type": "code",
   "execution_count": null,
   "metadata": {
    "collapsed": true
   },
   "outputs": [],
   "source": [
    "import gym"
   ]
  },
  {
   "cell_type": "code",
   "execution_count": null,
   "metadata": {},
   "outputs": [],
   "source": [
    "env = CliffWalkingEnv()\n",
    "#env = GridworldEnv()\n",
    "env = WindyGridworldEnv()\n",
    "#env = BlackjackEnv()\n",
    "\n",
    "#agent = GeneralQ(\n",
    "#  env.nS, env.action_space.n , env.reset(),\n",
    "#   model=TabularModel, num_offline_updates=30, step_size=0.1)\n",
    "\n",
    "agent = GeneralQ(env.nS, env.action_space.n, env.reset(),\n",
    "                 SARSA=False, double=True, step_size=0.1)\n",
    "\n",
    "\n",
    "agent = ExperienceQ(\n",
    "  env.nS, env.action_space.n, env.reset(),\n",
    "   num_offline_updates=10, step_size=0.1)\n",
    "\n",
    "\n",
    "agent = DynaQ(\n",
    "  env.nS, env.action_space.n, env.reset(),\n",
    "   model=TabularModel, num_offline_updates=21, step_size=0.1)\n"
   ]
  },
  {
   "cell_type": "code",
   "execution_count": null,
   "metadata": {},
   "outputs": [],
   "source": [
    "num_episodes = 500\n",
    "mean_reward = 0\n",
    "discount_factor=0.95\n",
    "\n",
    "episode_rewards = np.zeros(num_episodes)\n",
    "episode_lengths = np.zeros(num_episodes)\n",
    "\n",
    "state = env.reset()\n",
    "#print(state)\n",
    "action = agent.behaviour_policy(agent._q[state])\n",
    "\n",
    "for i_episode in range(num_episodes):\n",
    "    #state = env.reset()\n",
    "      \n",
    "    for t in itertools.count():\n",
    "      next_state, reward, done, _ = env.step(action)\n",
    "      #if done:\n",
    "      #      next_state = env.reset()\n",
    "\n",
    "      action = agent.step(reward, discount_factor, next_state)\n",
    "      #mean_reward += (reward - mean_reward)/(t + 1.)\n",
    "    \n",
    "      # Update statistics\n",
    "      episode_rewards[i_episode] += reward\n",
    "      episode_lengths[i_episode] = t\n",
    "        \n",
    "      if done:\n",
    "        agent._s = env.reset()\n",
    "        agent._last_action = agent.behaviour_policy(agent._q[state])\n",
    "        break\n",
    "    \n",
    "      state = next_state  "
   ]
  },
  {
   "cell_type": "code",
   "execution_count": null,
   "metadata": {},
   "outputs": [],
   "source": [
    "env.action_space.n"
   ]
  },
  {
   "cell_type": "code",
   "execution_count": null,
   "metadata": {},
   "outputs": [],
   "source": [
    "episode_rewards\n",
    "plt.plot(np.convolve(episode_rewards, np.ones((10,))/10, mode='valid'))"
   ]
  },
  {
   "cell_type": "code",
   "execution_count": null,
   "metadata": {
    "collapsed": true
   },
   "outputs": [],
   "source": [
    "def make_epsilon_greedy_policy(Q, epsilon, nA):\n",
    "    \"\"\"\n",
    "    Creates an epsilon-greedy policy based on a given Q-function and epsilon.\n",
    "    \n",
    "    Args:\n",
    "        Q: A dictionary that maps from state -> action-values.\n",
    "            Each value is a numpy array of length nA (see below)\n",
    "        epsilon: The probability to select a random action . float between 0 and 1.\n",
    "        nA: Number of actions in the environment.\n",
    "    \n",
    "    Returns:\n",
    "        A function that takes the observation as an argument and returns\n",
    "        the probabilities for each action in the form of a numpy array of length nA.\n",
    "    \n",
    "    \"\"\"\n",
    "    def policy_fn(observation):\n",
    "        A = np.ones(nA, dtype=float) * epsilon / nA\n",
    "        best_action = np.argmax(Q[observation])\n",
    "        A[best_action] += (1.0 - epsilon)\n",
    "        return A\n",
    "    return policy_fn\n"
   ]
  },
  {
   "cell_type": "code",
   "execution_count": null,
   "metadata": {
    "collapsed": true
   },
   "outputs": [],
   "source": [
    "from collections import defaultdict\n",
    "def q_learning(env, num_episodes, discount_factor=1.0, alpha=0.5, epsilon=0.1):\n",
    "    \"\"\"\n",
    "    Q-Learning algorithm: Off-policy TD control. Finds the optimal greedy policy\n",
    "    while following an epsilon-greedy policy\n",
    "    \n",
    "    Args:\n",
    "        env: OpenAI environment.\n",
    "        num_episodes: Number of episodes to run for.\n",
    "        discount_factor: Gamma discount factor.\n",
    "        alpha: TD learning rate.\n",
    "        epsilon: Chance the sample a random action. Float betwen 0 and 1.\n",
    "    \n",
    "    Returns:\n",
    "        A tuple (Q, episode_lengths).\n",
    "        Q is the optimal action-value function, a dictionary mapping state -> action values.\n",
    "        stats is an EpisodeStats object with two numpy arrays for episode_lengths and episode_rewards.\n",
    "    \"\"\"\n",
    "    \n",
    "    # The final action-value function.\n",
    "    # A nested dictionary that maps state -> (action -> action-value).\n",
    "    Q = defaultdict(lambda: np.zeros(env.action_space.n))\n",
    "   \n",
    "    \n",
    "    # The policy we're following\n",
    "    policy = make_epsilon_greedy_policy(Q, epsilon, env.action_space.n)\n",
    "    \n",
    "    for i_episode in range(num_episodes):\n",
    "        # Print out which episode we're on, useful for debugging.\n",
    "        if (i_episode + 1) % 100 == 0:\n",
    "            print(\"\\rEpisode {}/{}.\".format(i_episode + 1, num_episodes), end=\"\")\n",
    "            sys.stdout.flush()\n",
    "        \n",
    "        # Reset the environment and pick the first action\n",
    "        state = env.reset()\n",
    "        \n",
    "        # One step in the environment\n",
    "        # total_reward = 0.0\n",
    "        for t in itertools.count():\n",
    "            \n",
    "            # Take a step\n",
    "            action_probs = policy(state)\n",
    "            action = np.random.choice(np.arange(len(action_probs)), p=action_probs)\n",
    "            next_state, reward, done, _ = env.step(action)\n",
    "\n",
    "            \n",
    "            # TD Update\n",
    "            best_next_action = np.argmax(Q[next_state])    \n",
    "            td_target = reward + discount_factor * Q[next_state][best_next_action]\n",
    "            td_delta = td_target - Q[state][action]\n",
    "            Q[state][action] += alpha * td_delta\n",
    "                \n",
    "            if done:\n",
    "                break\n",
    "                \n",
    "            state = next_state\n",
    "    \n",
    "    return Q"
   ]
  },
  {
   "cell_type": "code",
   "execution_count": null,
   "metadata": {},
   "outputs": [],
   "source": [
    "Q =  q_learning(env, 20000)"
   ]
  },
  {
   "cell_type": "code",
   "execution_count": null,
   "metadata": {},
   "outputs": [],
   "source": [
    "# For plotting: Create value function from action-value function\n",
    "# by picking the best action at each state\n",
    "V = defaultdict(float)\n",
    "for state, actions in Q.items():\n",
    "    action_value = np.max(actions)\n",
    "    V[state] = action_value"
   ]
  },
  {
   "cell_type": "code",
   "execution_count": null,
   "metadata": {},
   "outputs": [],
   "source": [
    "from Tabular import ExpTabAgent"
   ]
  },
  {
   "cell_type": "code",
   "execution_count": null,
   "metadata": {},
   "outputs": [],
   "source": [
    "maze.get_obs()"
   ]
  },
  {
   "cell_type": "code",
   "execution_count": null,
   "metadata": {},
   "outputs": [],
   "source": [
    "grid = Grid()\n",
    "\n",
    "\n",
    "agent = ExpTabAgent(grid._layout.size, 4, grid.get_obs(),\n",
    "   SARSA=False, double=False, eps=0.2, step_size=0.1, num_offline_updates=30)\n",
    "\n",
    "run_experiment(grid, agent, int(1e4))\n",
    "q = agent.q_values.reshape(grid._layout.shape + (4,))\n",
    "plot_action_values(q)"
   ]
  },
  {
   "cell_type": "code",
   "execution_count": null,
   "metadata": {},
   "outputs": [],
   "source": [
    "pretrain_steps = 2e4\n",
    "new_env_steps = pretrain_steps / 5\n",
    "\n",
    "#agent = ExpTabAgent(grid._layout.size, 4, grid.get_obs(),\n",
    "#   SARSA=False, double=False, eps=0.2, step_size=0.1, num_offline_updates=30)\n",
    "\n",
    "\n",
    "# Train on first environment\n",
    "grid = Grid()\n",
    "agent = ExpTabAgent(grid._layout.size, 4, grid.get_obs(),\n",
    "   SARSA=True, double=True, eps=0.1, model=TabularModel, step_size=0.1, num_offline_updates=10)\n",
    "\n",
    "run_experiment(grid, agent, int(pretrain_steps))\n",
    "q = agent.q_values.reshape(grid._layout.shape + (4,))\n",
    "plot_state_value(q)\n",
    "plot_greedy_policy(grid, q)\n",
    "\n",
    "# Change goal location\n",
    "alt_grid = AltGrid()\n",
    "run_experiment(alt_grid, agent, int(new_env_steps))\n",
    "alt_q = agent.q_values.reshape(alt_grid._layout.shape + (4,))\n",
    "plot_state_value(alt_q)\n",
    "plot_greedy_policy(alt_grid, q)"
   ]
  },
  {
   "cell_type": "code",
   "execution_count": null,
   "metadata": {},
   "outputs": [],
   "source": [
    "#test the new stuff all works\n",
    "#Q learning SARSA=False, double=False\n",
    "#SARSA=True, double=False\n",
    "#SARSA=False, double=True\n",
    "\n",
    "#Q learning\n",
    "maze = Grid(noisy=False)\n",
    "\n",
    "\n",
    "agent = ExpTabAgent(grid._layout.size, 4, grid.get_obs(),\n",
    "   SARSA=False, double=False, model=TabularModel, eps=0.1, step_size=0.1, num_offline_updates=10)\n",
    "\n",
    "run_experiment(maze, agent, int(1e5))\n",
    "q = agent.q_values.reshape(maze._layout.shape + (4,))\n",
    "plot_action_values(q)"
   ]
  },
  {
   "cell_type": "code",
   "execution_count": null,
   "metadata": {},
   "outputs": [],
   "source": [
    "mean_reward_q_learning = []\n",
    "mean_reward_double_q_learning = []\n",
    "mean_reward_sarsa = []\n",
    "mean_reward_dsarsa = []\n",
    "mean_reward_exp_q_learning = []\n",
    "mean_reward_exp_double_q_learning = []\n",
    "mean_reward_exp_sarsa = []\n",
    "mean_reward_exp_dsarsa = []\n",
    "\n",
    "#agent = ExpTabAgent(grid._layout.size, 4, grid.get_obs(),\n",
    "#   SARSA=False, double=False, model=None, eps=0.1, step_size=0.1, num_offline_updates=0)\n",
    "\n",
    "for _ in range(10):\n",
    "  maze = Grid(noisy=True)\n",
    "  q_agent = ExpTabAgent(maze._layout.size, 4, maze.get_obs(),\n",
    "                     SARSA=False, double=False, model=None, eps=0.1, step_size=0.1, num_offline_updates=0)\n",
    "  dq_agent = ExpTabAgent(maze._layout.size, 4, maze.get_obs(),\n",
    "                      SARSA=False, double=True, model=None, eps=0.1, step_size=0.1, num_offline_updates=0)\n",
    "  sarsa_agent = ExpTabAgent(maze._layout.size, 4, maze.get_obs(),\n",
    "                     SARSA=True, double=False, model=None, eps=0.1, step_size=0.1, num_offline_updates=0)\n",
    "  dsarsa_agent = ExpTabAgent(maze._layout.size, 4, maze.get_obs(),\n",
    "                     SARSA=True, double=True, model=None, eps=0.1, step_size=0.1, num_offline_updates=0)\n",
    "  exp_q_agent = ExpTabAgent(maze._layout.size, 4, maze.get_obs(),\n",
    "                     SARSA=False, double=False, model=None, eps=0.1, step_size=0.1, num_offline_updates=10)\n",
    "  exp_dq_agent = ExpTabAgent(maze._layout.size, 4, maze.get_obs(),\n",
    "                      SARSA=False, double=True, model=None, eps=0.1, step_size=0.1, num_offline_updates=10)\n",
    "  exp_sarsa_agent = ExpTabAgent(maze._layout.size, 4, maze.get_obs(),\n",
    "                     SARSA=True, double=False, model=None, eps=0.1, step_size=0.1, num_offline_updates=10)\n",
    "  exp_dsarsa_agent = ExpTabAgent(maze._layout.size, 4, maze.get_obs(),\n",
    "                     SARSA=True, double=True, model=None, eps=0.1, step_size=0.1, num_offline_updates=10)\n",
    "\n",
    "  mean_reward_q_learning.append(run_experiment(maze, q_agent, int(1e5)))\n",
    "  mean_reward_double_q_learning.append(run_experiment(maze, dq_agent, int(1e5)))\n",
    "  mean_reward_sarsa.append(run_experiment(maze, sarsa_agent, int(1e5)))\n",
    "  mean_reward_dsarsa.append(run_experiment(maze, sarsa_agent, int(1e5)))\n",
    "  mean_reward_exp_q_learning.append(run_experiment(maze, q_agent, int(1e5)))\n",
    "  mean_reward_exp_double_q_learning.append(run_experiment(maze, dq_agent, int(1e5)))\n",
    "  mean_reward_exp_sarsa.append(run_experiment(maze, sarsa_agent, int(1e5)))\n",
    "  mean_reward_exp_dsarsa.append(run_experiment(maze, sarsa_agent, int(1e5)))\n",
    "\n",
    "plt.violinplot([mean_reward_sarsa,mean_reward_q_learning, mean_reward_double_q_learning, mean_reward_dsarsa,\n",
    "               mean_reward_exp_sarsa,mean_reward_exp_q_learning, mean_reward_exp_double_q_learning, \n",
    "              mean_reward_exp_dsarsa])\n",
    "plt.xticks([1, 2,3,4,5,6,7,8], [\"Sarsa\",\"Q-learning\", \"Double Q-learning\", \"DSarsa\",\n",
    "                     \"Exp_Sarsa\",\"Exp_Q-learning\", \"Exp_Double Q-learning\", \"Exp_DSarsa\"], rotation=60, size=12)\n",
    "plt.ylabel(\"average reward during learning\", size=12)\n",
    "ax = plt.gca()\n",
    "ax.set_axis_bgcolor('white')\n",
    "ax.grid(0)"
   ]
  },
  {
   "cell_type": "code",
   "execution_count": null,
   "metadata": {},
   "outputs": [],
   "source": [
    "mean_reward_q_learning = []\n",
    "mean_reward_double_q_learning = []\n",
    "mean_reward_sarsa = []\n",
    "mean_reward_dsarsa = []\n",
    "mean_reward_exp_q_learning = []\n",
    "mean_reward_exp_double_q_learning = []\n",
    "mean_reward_exp_sarsa = []\n",
    "mean_reward_exp_dsarsa = []\n",
    "\n",
    "#agent = ExpTabAgent(grid._layout.size, 4, grid.get_obs(),\n",
    "#   SARSA=False, double=False, model=None, eps=0.1, step_size=0.1, num_offline_updates=0)\n",
    "\n",
    "for _ in range(10):\n",
    "  maze = Grid(noisy=True)\n",
    "  q_agent = ExpTabAgent(maze._layout.size, 4, maze.get_obs(),\n",
    "                     SARSA=False, double=False, model=TabularModel, eps=0.1, step_size=0.1, num_offline_updates=0)\n",
    "  dq_agent = ExpTabAgent(maze._layout.size, 4, maze.get_obs(),\n",
    "                      SARSA=False, double=True, model=TabularModel, eps=0.1, step_size=0.1, num_offline_updates=0)\n",
    "  sarsa_agent = ExpTabAgent(maze._layout.size, 4, maze.get_obs(),\n",
    "                     SARSA=True, double=False, model=TabularModel, eps=0.1, step_size=0.1, num_offline_updates=0)\n",
    "  dsarsa_agent = ExpTabAgent(maze._layout.size, 4, maze.get_obs(),\n",
    "                     SARSA=True, double=True, model=TabularModel, eps=0.1, step_size=0.1, num_offline_updates=0)\n",
    "  exp_q_agent = ExpTabAgent(maze._layout.size, 4, maze.get_obs(),\n",
    "                     SARSA=False, double=False, model=TabularModel, eps=0.1, step_size=0.1, num_offline_updates=10)\n",
    "  exp_dq_agent = ExpTabAgent(maze._layout.size, 4, maze.get_obs(),\n",
    "                      SARSA=False, double=True, model=TabularModel, eps=0.1, step_size=0.1, num_offline_updates=10)\n",
    "  exp_sarsa_agent = ExpTabAgent(maze._layout.size, 4, maze.get_obs(),\n",
    "                     SARSA=True, double=False, model=TabularModel, eps=0.1, step_size=0.1, num_offline_updates=10)\n",
    "  exp_dsarsa_agent = ExpTabAgent(maze._layout.size, 4, maze.get_obs(),\n",
    "                     SARSA=True, double=True, model=TabularModel, eps=0.1, step_size=0.1, num_offline_updates=10)\n",
    "\n",
    "  mean_reward_q_learning.append(run_experiment(maze, q_agent, int(1e5)))\n",
    "  mean_reward_double_q_learning.append(run_experiment(maze, dq_agent, int(1e5)))\n",
    "  mean_reward_sarsa.append(run_experiment(maze, sarsa_agent, int(1e5)))\n",
    "  mean_reward_dsarsa.append(run_experiment(maze, sarsa_agent, int(1e5)))\n",
    "  mean_reward_exp_q_learning.append(run_experiment(maze, q_agent, int(1e5)))\n",
    "  mean_reward_exp_double_q_learning.append(run_experiment(maze, dq_agent, int(1e5)))\n",
    "  mean_reward_exp_sarsa.append(run_experiment(maze, sarsa_agent, int(1e5)))\n",
    "  mean_reward_exp_dsarsa.append(run_experiment(maze, sarsa_agent, int(1e5)))\n",
    "\n",
    "plt.violinplot([mean_reward_sarsa,mean_reward_q_learning, mean_reward_double_q_learning, mean_reward_dsarsa,\n",
    "               mean_reward_exp_sarsa,mean_reward_exp_q_learning, mean_reward_exp_double_q_learning, \n",
    "              mean_reward_exp_dsarsa])\n",
    "plt.xticks([1, 2,3,4,5,6,7,8], [\"Sarsa\",\"Q-learning\", \"Double Q-learning\", \"DSarsa\",\n",
    "                     \"Exp_Sarsa\",\"Exp_Q-learning\", \"Exp_Double Q-learning\", \"Exp_DSarsa\"], rotation=60, size=12)\n",
    "plt.ylabel(\"average reward during learning\", size=12)\n",
    "plt.title(\"Tabular model based\")\n",
    "ax = plt.gca()\n",
    "ax.set_axis_bgcolor('white')\n",
    "ax.grid(0)"
   ]
  },
  {
   "cell_type": "code",
   "execution_count": null,
   "metadata": {},
   "outputs": [],
   "source": [
    "env = CliffWalkingEnv()\n",
    "#env = GridworldEnv()\n",
    "env = WindyGridworldEnv()\n",
    "#env = BlackjackEnv()\n",
    "\n",
    "agent = ExpTabAgent(env.nS, env.action_space.n, env.reset(),\n",
    "   SARSA=False, double=True, model=None, eps=0.1, step_size=0.1, num_offline_updates=20)\n",
    "\n"
   ]
  },
  {
   "cell_type": "code",
   "execution_count": null,
   "metadata": {},
   "outputs": [],
   "source": [
    "num_episodes = 500\n",
    "mean_reward = 0\n",
    "discount_factor=0.95\n",
    "\n",
    "episode_rewards = np.zeros(num_episodes)\n",
    "episode_lengths = np.zeros(num_episodes)\n",
    "\n",
    "state = env.reset()\n",
    "action = agent.behaviour(state)\n",
    "\n",
    "for i_episode in range(num_episodes):\n",
    "      \n",
    "    for t in itertools.count():\n",
    "      next_state, reward, done, _ = env.step(action)\n",
    "\n",
    "      action = agent.step(reward, discount_factor, next_state)\n",
    "\n",
    "      episode_rewards[i_episode] += reward\n",
    "      episode_lengths[i_episode] = t\n",
    "        \n",
    "      if done:\n",
    "        agent.done(env.reset())\n",
    "        break\n",
    "    \n",
    "      state = next_state  "
   ]
  },
  {
   "cell_type": "code",
   "execution_count": null,
   "metadata": {},
   "outputs": [],
   "source": [
    "episode_rewards\n",
    "plt.plot(np.convolve(episode_rewards, np.ones((10,))/10, mode='valid'))"
   ]
  },
  {
   "cell_type": "code",
   "execution_count": 4,
   "metadata": {},
   "outputs": [],
   "source": [
    "from Linear import FeatureExp"
   ]
  },
  {
   "cell_type": "code",
   "execution_count": 27,
   "metadata": {},
   "outputs": [
    {
     "name": "stderr",
     "output_type": "stream",
     "text": [
      "../lib/utes.py:102: MatplotlibDeprecationWarning: pyplot.hold is deprecated.\n",
      "    Future behavior will be consistent with the long-time default:\n",
      "    plot commands add elements without first clearing the\n",
      "    Axes and/or Figure.\n",
      "  plt.hold('on')\n",
      "/Users/johngoodacre/anaconda/envs/pytorch/lib/python3.6/site-packages/matplotlib/__init__.py:917: UserWarning: axes.hold is deprecated. Please remove it from your matplotlibrc and/or style files.\n",
      "  warnings.warn(self.msg_depr_set % key)\n",
      "/Users/johngoodacre/anaconda/envs/pytorch/lib/python3.6/site-packages/matplotlib/rcsetup.py:152: UserWarning: axes.hold is deprecated, will be removed in 3.0\n",
      "  warnings.warn(\"axes.hold is deprecated, will be removed in 3.0\")\n"
     ]
    },
    {
     "data": {
      "image/png": "[encoded data removed]",
      "text/plain": [
       "<matplotlib.figure.Figure at 0x1a1fe26e10>"
      ]
     },
     "metadata": {},
     "output_type": "display_data"
    },
    {
     "data": {
      "image/png": "[encoded data removed]",
      "text/plain": [
       "<matplotlib.figure.Figure at 0x1a1fe26b70>"
      ]
     },
     "metadata": {},
     "output_type": "display_data"
    }
   ],
   "source": [
    "#####test on this stuff\n",
    "\n",
    "grid = FeatureGrid()\n",
    "\n",
    "#agent = ExpTabAgent(env.nS, env.action_space.n, env.reset(),\n",
    "#   SARSA=False, double=True, model=None, eps=0.1, step_size=0.1, num_offline_updates=20)\n",
    "\n",
    "\n",
    "#update changed target policy bit but sarsa doesnt seem to work model=LinearModel,model=LinearModel, double =True,\n",
    "\n",
    "agent = FeatureExp(\n",
    "  number_of_features=grid.number_of_features, number_of_actions=4,\n",
    "  SARSA=True, double =True,model=LinearModel,\n",
    "  number_of_states=grid._layout.size, initial_state=grid.get_obs(),\n",
    "  num_offline_updates=5, step_size=0.1, eps=0.1)\n",
    "run_experiment(grid, agent, int(3e5))\n",
    "\n",
    "q = np.reshape(\n",
    "    np.array([agent.q(grid.int_to_features(i)) for i in range(grid.number_of_states)]),\n",
    "    [grid._layout.shape[0], grid._layout.shape[1], 4])\n",
    "plot_action_values(q)\n",
    "plot_greedy_policy(grid, q)"
   ]
  },
  {
   "cell_type": "code",
   "execution_count": null,
   "metadata": {},
   "outputs": [],
   "source": [
    "def run_experiment(env, agent, number_of_steps):\n",
    "    mean_reward = 0.\n",
    "    try:\n",
    "      action = agent.initial_action()\n",
    "    except AttributeError:\n",
    "      action = 0\n",
    "    for i in range(number_of_steps):\n",
    "      reward, discount, next_state = env.step(action)\n",
    "\n",
    "      action = agent.step(reward, discount, next_state)\n",
    "      mean_reward += (reward - mean_reward)/(i + 1.)\n",
    "\n",
    "    return mean_reward"
   ]
  },
  {
   "cell_type": "code",
   "execution_count": null,
   "metadata": {},
   "outputs": [],
   "source": [
    "grid = FeatureGrid()\n",
    "grid.get_obs().shape"
   ]
  },
  {
   "cell_type": "code",
   "execution_count": null,
   "metadata": {},
   "outputs": [],
   "source": [
    "grid.number_of_states"
   ]
  },
  {
   "cell_type": "code",
   "execution_count": null,
   "metadata": {},
   "outputs": [],
   "source": [
    "grid._state\n",
    "y, x = grid._state\n",
    "value = y*grid._layout.shape[1] + x\n",
    "feat = np.zeros(grid.number_of_states)\n",
    "feat[value-1]=1"
   ]
  },
  {
   "cell_type": "code",
   "execution_count": null,
   "metadata": {},
   "outputs": [],
   "source": [
    "value"
   ]
  },
  {
   "cell_type": "code",
   "execution_count": null,
   "metadata": {},
   "outputs": [],
   "source": [
    "grid.get_obs()"
   ]
  },
  {
   "cell_type": "code",
   "execution_count": 32,
   "metadata": {},
   "outputs": [],
   "source": [
    "%matplotlib inline\n",
    "\n",
    "import gym\n",
    "import itertools\n",
    "import matplotlib\n",
    "import numpy as np\n",
    "import sys\n",
    "import sklearn.pipeline\n",
    "import sklearn.preprocessing\n",
    "\n",
    "if \"../\" not in sys.path:\n",
    "  sys.path.append(\"../\") \n",
    "\n",
    "from lib import plotting\n",
    "from sklearn.linear_model import SGDRegressor\n",
    "from sklearn.kernel_approximation import RBFSampler\n",
    "\n",
    "matplotlib.style.use('ggplot')"
   ]
  },
  {
   "cell_type": "code",
   "execution_count": 33,
   "metadata": {},
   "outputs": [
    {
     "name": "stdout",
     "output_type": "stream",
     "text": [
      "\u001b[33mWARN: gym.spaces.Box autodetected dtype as <class 'numpy.float32'>. Please provide explicit dtype.\u001b[0m\n"
     ]
    }
   ],
   "source": [
    "env = gym.envs.make(\"MountainCar-v0\")"
   ]
  },
  {
   "cell_type": "code",
   "execution_count": 34,
   "metadata": {},
   "outputs": [
    {
     "data": {
      "text/plain": [
       "FeatureUnion(n_jobs=1,\n",
       "       transformer_list=[('rbf1', RBFSampler(gamma=5.0, n_components=100, random_state=None)), ('rbf2', RBFSampler(gamma=2.0, n_components=100, random_state=None)), ('rbf3', RBFSampler(gamma=1.0, n_components=100, random_state=None)), ('rbf4', RBFSampler(gamma=0.5, n_components=100, random_state=None))],\n",
       "       transformer_weights=None)"
      ]
     },
     "execution_count": 34,
     "metadata": {},
     "output_type": "execute_result"
    }
   ],
   "source": [
    "# Feature Preprocessing: Normalize to zero mean and unit variance\n",
    "# We use a few samples from the observation space to do this\n",
    "observation_examples = np.array([env.observation_space.sample() for x in range(10000)])\n",
    "scaler = sklearn.preprocessing.StandardScaler()\n",
    "scaler.fit(observation_examples)\n",
    "\n",
    "# Used to convert a state to a featurizes represenation.\n",
    "# We use RBF kernels with different variances to cover different parts of the space\n",
    "featurizer = sklearn.pipeline.FeatureUnion([\n",
    "        (\"rbf1\", RBFSampler(gamma=5.0, n_components=100)),\n",
    "        (\"rbf2\", RBFSampler(gamma=2.0, n_components=100)),\n",
    "        (\"rbf3\", RBFSampler(gamma=1.0, n_components=100)),\n",
    "        (\"rbf4\", RBFSampler(gamma=0.5, n_components=100))\n",
    "        ])\n",
    "featurizer.fit(scaler.transform(observation_examples))"
   ]
  },
  {
   "cell_type": "code",
   "execution_count": 35,
   "metadata": {},
   "outputs": [],
   "source": [
    "state = env.observation_space.sample()"
   ]
  },
  {
   "cell_type": "code",
   "execution_count": 36,
   "metadata": {},
   "outputs": [],
   "source": [
    "def featurize_state(state):\n",
    "    \"\"\"\n",
    "    Returns the featurized representation for a state.\n",
    "    \"\"\"\n",
    "    scaled = scaler.transform([state])\n",
    "    featurized = featurizer.transform(scaled)\n",
    "    return featurized[0]"
   ]
  },
  {
   "cell_type": "code",
   "execution_count": 37,
   "metadata": {},
   "outputs": [
    {
     "data": {
      "text/plain": [
       "array([ 0.079,  0.095,  0.137, -0.009, -0.027,  0.094, -0.049,  0.096,\n",
       "        0.121,  0.134,  0.041,  0.06 ,  0.083,  0.031, -0.129, -0.135,\n",
       "        0.049,  0.134,  0.087, -0.14 , -0.015, -0.036,  0.029, -0.127,\n",
       "       -0.079,  0.139,  0.114, -0.085, -0.05 ,  0.052, -0.006,  0.135,\n",
       "        0.136,  0.052, -0.107, -0.061,  0.134,  0.102,  0.123,  0.141,\n",
       "       -0.08 , -0.054,  0.069,  0.027, -0.076, -0.136,  0.053, -0.009,\n",
       "       -0.105, -0.134, -0.023,  0.141, -0.133, -0.111, -0.132, -0.141,\n",
       "        0.135, -0.141, -0.092,  0.115,  0.068,  0.079,  0.005, -0.11 ,\n",
       "        0.133, -0.041, -0.109,  0.033,  0.118, -0.012,  0.138,  0.003,\n",
       "       -0.132, -0.132, -0.011, -0.126,  0.029,  0.122,  0.065, -0.13 ,\n",
       "       -0.137, -0.141,  0.09 , -0.077, -0.122,  0.049,  0.092,  0.063,\n",
       "       -0.141, -0.106, -0.015, -0.112, -0.076,  0.141, -0.043, -0.042,\n",
       "       -0.115, -0.036,  0.061, -0.12 , -0.067, -0.138, -0.051, -0.018,\n",
       "        0.046,  0.063,  0.117, -0.099, -0.116, -0.14 ,  0.109,  0.061,\n",
       "        0.084,  0.049,  0.071, -0.105,  0.04 , -0.126,  0.053,  0.083,\n",
       "       -0.075,  0.021, -0.136,  0.136,  0.129, -0.09 , -0.012,  0.087,\n",
       "        0.113,  0.136, -0.128,  0.059,  0.034,  0.141, -0.007,  0.106,\n",
       "       -0.045,  0.09 ,  0.081,  0.11 ,  0.141,  0.138, -0.141, -0.02 ,\n",
       "        0.131,  0.099, -0.055, -0.136,  0.141,  0.019, -0.093,  0.141,\n",
       "        0.125,  0.12 ,  0.131, -0.027, -0.096,  0.129,  0.108,  0.015,\n",
       "       -0.064,  0.108, -0.013, -0.066, -0.135,  0.096,  0.141,  0.025,\n",
       "        0.094,  0.05 ,  0.   , -0.096, -0.139, -0.141, -0.005,  0.061,\n",
       "        0.141,  0.023,  0.103, -0.057, -0.061, -0.136, -0.117, -0.094,\n",
       "        0.114,  0.137,  0.104,  0.133,  0.117, -0.137, -0.095, -0.094,\n",
       "        0.111, -0.06 ,  0.077, -0.141, -0.139, -0.095, -0.14 ,  0.141,\n",
       "        0.129,  0.025, -0.062,  0.073,  0.017,  0.021, -0.008, -0.137,\n",
       "        0.057,  0.134,  0.067, -0.129, -0.136,  0.016, -0.14 , -0.038,\n",
       "        0.099,  0.115,  0.052,  0.14 ,  0.121, -0.079, -0.135,  0.087,\n",
       "       -0.118, -0.064, -0.139,  0.14 , -0.109,  0.031, -0.055,  0.139,\n",
       "        0.077, -0.002,  0.085,  0.09 , -0.01 , -0.129,  0.064, -0.05 ,\n",
       "        0.022,  0.139,  0.139,  0.024,  0.133, -0.124, -0.112, -0.019,\n",
       "       -0.037, -0.112, -0.114,  0.135, -0.132,  0.041,  0.097,  0.131,\n",
       "        0.127,  0.076, -0.054,  0.125, -0.051, -0.137,  0.098, -0.019,\n",
       "        0.104,  0.1  ,  0.033, -0.032, -0.001,  0.012, -0.124, -0.13 ,\n",
       "        0.141, -0.02 , -0.106,  0.135,  0.009,  0.127,  0.106, -0.013,\n",
       "        0.025,  0.138,  0.14 , -0.011, -0.141, -0.081,  0.117,  0.126,\n",
       "       -0.119, -0.072,  0.123, -0.048, -0.043, -0.103, -0.139,  0.072,\n",
       "       -0.058,  0.033, -0.137, -0.008,  0.068, -0.063, -0.115, -0.141,\n",
       "        0.116, -0.102,  0.025, -0.136, -0.025, -0.14 ,  0.122, -0.056,\n",
       "        0.027, -0.039, -0.086,  0.07 ,  0.047,  0.05 , -0.102, -0.075,\n",
       "       -0.128,  0.087,  0.106, -0.11 , -0.1  , -0.131,  0.07 , -0.092,\n",
       "        0.126, -0.006,  0.008, -0.088, -0.131,  0.111, -0.068, -0.141,\n",
       "        0.08 ,  0.081, -0.097, -0.042,  0.14 ,  0.125,  0.036, -0.093,\n",
       "       -0.116, -0.14 ,  0.008,  0.047,  0.058, -0.139, -0.088,  0.008,\n",
       "       -0.141, -0.141,  0.019, -0.038, -0.107,  0.101,  0.037, -0.096,\n",
       "        0.033,  0.079,  0.028,  0.052, -0.114,  0.121, -0.124,  0.114,\n",
       "        0.132,  0.139, -0.132, -0.071,  0.037, -0.039, -0.141,  0.113,\n",
       "       -0.052, -0.099, -0.11 ,  0.141, -0.043,  0.131,  0.136, -0.139,\n",
       "       -0.093,  0.071,  0.091,  0.094,  0.126, -0.06 ,  0.013, -0.001,\n",
       "       -0.121, -0.049,  0.14 ,  0.053, -0.123, -0.138,  0.024,  0.012])"
      ]
     },
     "execution_count": 37,
     "metadata": {},
     "output_type": "execute_result"
    }
   ],
   "source": [
    "featurize_state(state)"
   ]
  },
  {
   "cell_type": "code",
   "execution_count": 41,
   "metadata": {
    "collapsed": true
   },
   "outputs": [],
   "source": [
    "import torch\n",
    "import torch.nn as nn\n",
    "import torch.nn.functional as F\n",
    "from torch.autograd import Variable\n",
    "import matplotlib.pyplot as plt\n",
    "import numpy as np\n",
    "import math\n",
    "import random\n",
    "import os\n",
    "import gym\n",
    "\n",
    "# Hyper Parameters\n",
    "STATE_DIM = 4\n",
    "ACTION_DIM = 2\n",
    "STEP = 2000\n",
    "SAMPLE_NUMS = 30\n",
    "\n",
    "\n",
    "class ActorNetwork(nn.Module):\n",
    "\n",
    "    def __init__(self,input_size,hidden_size,action_size):\n",
    "        super(ActorNetwork, self).__init__()\n",
    "        self.fc1 = nn.Linear(input_size,hidden_size)\n",
    "        self.fc2 = nn.Linear(hidden_size,hidden_size)\n",
    "        self.fc3 = nn.Linear(hidden_size,action_size)\n",
    "        \n",
    "    def forward(self,x):\n",
    "        out = F.relu(self.fc1(x))\n",
    "        out = F.relu(self.fc2(out))\n",
    "        out = F.log_softmax(self.fc3(out))\n",
    "        return out\n",
    "\n",
    "class ValueNetwork(nn.Module):\n",
    "\n",
    "    def __init__(self,input_size,hidden_size,output_size):\n",
    "        super(ValueNetwork, self).__init__()\n",
    "        self.fc1 = nn.Linear(input_size,hidden_size)\n",
    "        self.fc2 = nn.Linear(hidden_size,hidden_size)\n",
    "        self.fc3 = nn.Linear(hidden_size,output_size)\n",
    "\n",
    "    def forward(self,x):\n",
    "        out = F.relu(self.fc1(x))\n",
    "        out = F.relu(self.fc2(out))\n",
    "        out = self.fc3(out)\n",
    "        return out\n",
    "\n",
    "def roll_out(actor_network,task,sample_nums,value_network,init_state):\n",
    "    #task.reset()\n",
    "    states = []\n",
    "    actions = []\n",
    "    rewards = []\n",
    "    is_done = False\n",
    "    final_r = 0\n",
    "    state = init_state\n",
    "\n",
    "    for j in range(sample_nums):\n",
    "        states.append(state)\n",
    "        log_softmax_action = actor_network(Variable(torch.Tensor([state])))\n",
    "        softmax_action = torch.exp(log_softmax_action)\n",
    "        action = np.random.choice(ACTION_DIM,p=softmax_action.cpu().data.numpy()[0])\n",
    "        one_hot_action = [int(k == action) for k in range(ACTION_DIM)]\n",
    "        next_state,reward,done,_ = task.step(action)\n",
    "        #fix_reward = -10 if done else 1\n",
    "        actions.append(one_hot_action)\n",
    "        rewards.append(reward)\n",
    "        final_state = next_state\n",
    "        state = next_state\n",
    "        if done:\n",
    "            is_done = True\n",
    "            state = task.reset()\n",
    "            break\n",
    "    if not is_done:\n",
    "        final_r = value_network(Variable(torch.Tensor([final_state]))).cpu().data.numpy()\n",
    "\n",
    "    return states,actions,rewards,final_r,state\n",
    "\n",
    "def discount_reward(r, gamma,final_r):\n",
    "    discounted_r = np.zeros_like(r)\n",
    "    running_add = final_r\n",
    "    for t in reversed(range(0, len(r))):\n",
    "        running_add = running_add * gamma + r[t]\n",
    "        discounted_r[t] = running_add\n",
    "    return discounted_r\n",
    "\n",
    "        "
   ]
  },
  {
   "cell_type": "code",
   "execution_count": null,
   "metadata": {},
   "outputs": [],
   "source": [
    "def main():\n",
    "    # init a task generator for data fetching\n",
    "    task = gym.make(\"CartPole-v0\")\n",
    "    init_state = task.reset()\n",
    "\n",
    "    # init value network\n",
    "    value_network = ValueNetwork(input_size = STATE_DIM,hidden_size = 40,output_size = 1)\n",
    "    value_network_optim = torch.optim.Adam(value_network.parameters(),lr=0.01)\n",
    "\n",
    "    # init actor network\n",
    "    actor_network = ActorNetwork(STATE_DIM,40,ACTION_DIM)\n",
    "    actor_network_optim = torch.optim.Adam(actor_network.parameters(),lr = 0.01)\n",
    "\n",
    "    steps =[]\n",
    "    task_episodes =[]\n",
    "    test_results =[]\n",
    "\n",
    "    for step in range(STEP):\n",
    "        states,actions,rewards,final_r,current_state = roll_out(actor_network,task,SAMPLE_NUMS,value_network,init_state)\n",
    "        init_state = current_state\n",
    "        actions_var = Variable(torch.Tensor(actions).view(-1,ACTION_DIM))\n",
    "        states_var = Variable(torch.Tensor(states).view(-1,STATE_DIM))\n",
    "\n",
    "        # train actor network\n",
    "        actor_network_optim.zero_grad()\n",
    "        log_softmax_actions = actor_network(states_var)\n",
    "        vs = value_network(states_var).detach()\n",
    "        # calculate qs\n",
    "        qs = Variable(torch.Tensor(discount_reward(rewards,0.99,final_r)))\n",
    "\n",
    "        advantages = qs - vs\n",
    "        actor_network_loss = - torch.mean(torch.sum(log_softmax_actions*actions_var,1)* advantages)\n",
    "        actor_network_loss.backward()\n",
    "        torch.nn.utils.clip_grad_norm(actor_network.parameters(),0.5)\n",
    "        actor_network_optim.step()\n",
    "\n",
    "        # train value network\n",
    "        value_network_optim.zero_grad()\n",
    "        target_values = qs\n",
    "        values = value_network(states_var)\n",
    "        criterion = nn.MSELoss()\n",
    "        value_network_loss = criterion(values,target_values)\n",
    "        value_network_loss.backward()\n",
    "        torch.nn.utils.clip_grad_norm(value_network.parameters(),0.5)\n",
    "        value_network_optim.step()\n",
    "\n",
    "        # Testing\n",
    "        if (step + 1) % 50== 0:\n",
    "                result = 0\n",
    "                test_task = gym.make(\"CartPole-v0\")\n",
    "                for test_epi in range(10):\n",
    "                    state = test_task.reset()\n",
    "                    for test_step in range(200):\n",
    "                        softmax_action = torch.exp(actor_network(Variable(torch.Tensor([state]))))\n",
    "                        #print(softmax_action.data)\n",
    "                        action = np.argmax(softmax_action.data.numpy()[0])\n",
    "                        next_state,reward,done,_ = test_task.step(action)\n",
    "                        result += reward\n",
    "                        state = next_state\n",
    "                        if done:\n",
    "                            break\n",
    "                print(\"step:\",step+1,\"test result:\",result/10.0)\n",
    "                steps.append(step+1)\n",
    "                test_results.append(result/10)\n",
    "\n",
    "if __name__ == '__main__':\n",
    "    main()\n"
   ]
  },
  {
   "cell_type": "code",
   "execution_count": 43,
   "metadata": {},
   "outputs": [
    {
     "name": "stdout",
     "output_type": "stream",
     "text": [
      "\u001b[33mWARN: gym.spaces.Box autodetected dtype as <class 'numpy.float32'>. Please provide explicit dtype.\u001b[0m\n"
     ]
    },
    {
     "name": "stderr",
     "output_type": "stream",
     "text": [
      "/Users/johngoodacre/anaconda/envs/pytorch/lib/python3.6/site-packages/ipykernel_launcher.py:30: UserWarning: Implicit dimension choice for log_softmax has been deprecated. Change the call to include dim=X as an argument.\n"
     ]
    }
   ],
   "source": [
    "# init a task generator for data fetching\n",
    "task = gym.make(\"CartPole-v0\")\n",
    "init_state = task.reset()\n",
    "\n",
    "# init value network\n",
    "value_network = ValueNetwork(input_size = STATE_DIM,hidden_size = 40,output_size = 1)\n",
    "value_network_optim = torch.optim.Adam(value_network.parameters(),lr=0.01)\n",
    "\n",
    "# init actor network\n",
    "actor_network = ActorNetwork(STATE_DIM,40,ACTION_DIM)\n",
    "actor_network_optim = torch.optim.Adam(actor_network.parameters(),lr = 0.01)\n",
    "\n",
    "steps =[]\n",
    "task_episodes =[]\n",
    "test_results =[]\n",
    "\n",
    "softmax_action = torch.exp(actor_network(Variable(torch.Tensor([state]))))"
   ]
  },
  {
   "cell_type": "code",
   "execution_count": 44,
   "metadata": {},
   "outputs": [
    {
     "data": {
      "text/plain": [
       "Variable containing:\n",
       " 0.5225  0.4775\n",
       "[torch.FloatTensor of size 1x2]"
      ]
     },
     "execution_count": 44,
     "metadata": {},
     "output_type": "execute_result"
    }
   ],
   "source": [
    "softmax_action"
   ]
  },
  {
   "cell_type": "code",
   "execution_count": 40,
   "metadata": {},
   "outputs": [
    {
     "data": {
      "text/plain": [
       "array([ 0.01 ,  0.039,  0.028, -0.033])"
      ]
     },
     "execution_count": 40,
     "metadata": {},
     "output_type": "execute_result"
    }
   ],
   "source": [
    "state"
   ]
  },
  {
   "cell_type": "code",
   "execution_count": null,
   "metadata": {
    "collapsed": true
   },
   "outputs": [],
   "source": []
  }
 ],
 "metadata": {
  "kernelspec": {
   "display_name": "Python 3",
   "language": "python",
   "name": "python3"
  },
  "language_info": {
   "codemirror_mode": {
    "name": "ipython",
    "version": 3
   },
   "file_extension": ".py",
   "mimetype": "text/x-python",
   "name": "python",
   "nbconvert_exporter": "python",
   "pygments_lexer": "ipython3",
   "version": "3.6.1"
  }
 },
 "nbformat": 4,
 "nbformat_minor": 2
}
